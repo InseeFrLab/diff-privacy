{
 "cells": [
  {
   "cell_type": "markdown",
   "metadata": {},
   "source": [
    "# Mes premières requêtes solo"
   ]
  },
  {
   "cell_type": "code",
   "execution_count": 5,
   "metadata": {},
   "outputs": [
    {
     "name": "stdout",
     "output_type": "stream",
     "text": [
      "Requirement already satisfied: opendp in /opt/conda/lib/python3.12/site-packages (0.10.0)\n",
      "Note: you may need to restart the kernel to use updated packages.\n",
      "Requirement already satisfied: opendp[polars] in /opt/conda/lib/python3.12/site-packages (0.10.0)\n",
      "Requirement already satisfied: polars==0.20.16 in /opt/conda/lib/python3.12/site-packages (from opendp[polars]) (0.20.16)\n",
      "Requirement already satisfied: pyarrow in /opt/conda/lib/python3.12/site-packages (from opendp[polars]) (19.0.1)\n",
      "Requirement already satisfied: scikit-learn in /opt/conda/lib/python3.12/site-packages (from opendp[polars]) (1.6.1)\n",
      "Requirement already satisfied: numpy<2.0,>=1.17 in /opt/conda/lib/python3.12/site-packages (from opendp[polars]) (1.26.4)\n",
      "Requirement already satisfied: randomgen in /opt/conda/lib/python3.12/site-packages (from opendp[polars]) (2.1.1)\n",
      "Requirement already satisfied: scipy>=1.6.0 in /opt/conda/lib/python3.12/site-packages (from scikit-learn->opendp[polars]) (1.15.2)\n",
      "Requirement already satisfied: joblib>=1.2.0 in /opt/conda/lib/python3.12/site-packages (from scikit-learn->opendp[polars]) (1.4.2)\n",
      "Requirement already satisfied: threadpoolctl>=3.1.0 in /opt/conda/lib/python3.12/site-packages (from scikit-learn->opendp[polars]) (3.6.0)\n",
      "Note: you may need to restart the kernel to use updated packages.\n",
      "Requirement already satisfied: hvplot in /opt/conda/lib/python3.12/site-packages (0.11.2)\n",
      "Requirement already satisfied: bokeh>=3.1 in /opt/conda/lib/python3.12/site-packages (from hvplot) (3.7.2)\n",
      "Requirement already satisfied: colorcet>=2 in /opt/conda/lib/python3.12/site-packages (from hvplot) (3.1.0)\n",
      "Requirement already satisfied: holoviews>=1.19.0 in /opt/conda/lib/python3.12/site-packages (from hvplot) (1.20.2)\n",
      "Requirement already satisfied: numpy>=1.21 in /opt/conda/lib/python3.12/site-packages (from hvplot) (1.26.4)\n",
      "Requirement already satisfied: packaging in /opt/conda/lib/python3.12/site-packages (from hvplot) (24.2)\n",
      "Requirement already satisfied: pandas>=1.3 in /opt/conda/lib/python3.12/site-packages (from hvplot) (2.2.3)\n",
      "Requirement already satisfied: panel>=1.0 in /opt/conda/lib/python3.12/site-packages (from hvplot) (1.6.2)\n",
      "Requirement already satisfied: param<3.0,>=1.12.0 in /opt/conda/lib/python3.12/site-packages (from hvplot) (2.2.0)\n",
      "Requirement already satisfied: Jinja2>=2.9 in /opt/conda/lib/python3.12/site-packages (from bokeh>=3.1->hvplot) (3.1.6)\n",
      "Requirement already satisfied: contourpy>=1.2 in /opt/conda/lib/python3.12/site-packages (from bokeh>=3.1->hvplot) (1.3.1)\n",
      "Requirement already satisfied: narwhals>=1.13 in /opt/conda/lib/python3.12/site-packages (from bokeh>=3.1->hvplot) (1.34.1)\n",
      "Requirement already satisfied: pillow>=7.1.0 in /opt/conda/lib/python3.12/site-packages (from bokeh>=3.1->hvplot) (11.1.0)\n",
      "Requirement already satisfied: PyYAML>=3.10 in /opt/conda/lib/python3.12/site-packages (from bokeh>=3.1->hvplot) (6.0.2)\n",
      "Requirement already satisfied: tornado>=6.2 in /opt/conda/lib/python3.12/site-packages (from bokeh>=3.1->hvplot) (6.4.2)\n",
      "Requirement already satisfied: xyzservices>=2021.09.1 in /opt/conda/lib/python3.12/site-packages (from bokeh>=3.1->hvplot) (2025.1.0)\n",
      "Requirement already satisfied: pyviz-comms>=2.1 in /opt/conda/lib/python3.12/site-packages (from holoviews>=1.19.0->hvplot) (3.0.4)\n",
      "Requirement already satisfied: python-dateutil>=2.8.2 in /opt/conda/lib/python3.12/site-packages (from pandas>=1.3->hvplot) (2.9.0.post0)\n",
      "Requirement already satisfied: pytz>=2020.1 in /opt/conda/lib/python3.12/site-packages (from pandas>=1.3->hvplot) (2025.2)\n",
      "Requirement already satisfied: tzdata>=2022.7 in /opt/conda/lib/python3.12/site-packages (from pandas>=1.3->hvplot) (2025.2)\n",
      "Requirement already satisfied: bleach in /opt/conda/lib/python3.12/site-packages (from panel>=1.0->hvplot) (6.2.0)\n",
      "Requirement already satisfied: linkify-it-py in /opt/conda/lib/python3.12/site-packages (from panel>=1.0->hvplot) (2.0.3)\n",
      "Requirement already satisfied: markdown in /opt/conda/lib/python3.12/site-packages (from panel>=1.0->hvplot) (3.6)\n",
      "Requirement already satisfied: markdown-it-py in /opt/conda/lib/python3.12/site-packages (from panel>=1.0->hvplot) (3.0.0)\n",
      "Requirement already satisfied: mdit-py-plugins in /opt/conda/lib/python3.12/site-packages (from panel>=1.0->hvplot) (0.4.2)\n",
      "Requirement already satisfied: requests in /opt/conda/lib/python3.12/site-packages (from panel>=1.0->hvplot) (2.32.0)\n",
      "Requirement already satisfied: tqdm in /opt/conda/lib/python3.12/site-packages (from panel>=1.0->hvplot) (4.67.1)\n",
      "Requirement already satisfied: typing-extensions in /opt/conda/lib/python3.12/site-packages (from panel>=1.0->hvplot) (4.13.2)\n",
      "Requirement already satisfied: MarkupSafe>=2.0 in /opt/conda/lib/python3.12/site-packages (from Jinja2>=2.9->bokeh>=3.1->hvplot) (3.0.2)\n",
      "Requirement already satisfied: six>=1.5 in /opt/conda/lib/python3.12/site-packages (from python-dateutil>=2.8.2->pandas>=1.3->hvplot) (1.17.0)\n",
      "Requirement already satisfied: webencodings in /opt/conda/lib/python3.12/site-packages (from bleach->panel>=1.0->hvplot) (0.5.1)\n",
      "Requirement already satisfied: uc-micro-py in /opt/conda/lib/python3.12/site-packages (from linkify-it-py->panel>=1.0->hvplot) (1.0.3)\n",
      "Requirement already satisfied: mdurl~=0.1 in /opt/conda/lib/python3.12/site-packages (from markdown-it-py->panel>=1.0->hvplot) (0.1.2)\n",
      "Requirement already satisfied: charset-normalizer<4,>=2 in /opt/conda/lib/python3.12/site-packages (from requests->panel>=1.0->hvplot) (3.4.1)\n",
      "Requirement already satisfied: idna<4,>=2.5 in /opt/conda/lib/python3.12/site-packages (from requests->panel>=1.0->hvplot) (3.10)\n",
      "Requirement already satisfied: urllib3<3,>=1.21.1 in /opt/conda/lib/python3.12/site-packages (from requests->panel>=1.0->hvplot) (2.3.0)\n",
      "Requirement already satisfied: certifi>=2017.4.17 in /opt/conda/lib/python3.12/site-packages (from requests->panel>=1.0->hvplot) (2025.1.31)\n",
      "Note: you may need to restart the kernel to use updated packages.\n"
     ]
    }
   ],
   "source": [
    "%pip install opendp\n",
    "%pip install 'opendp[polars]'\n",
    "%pip install hvplot"
   ]
  },
  {
   "cell_type": "code",
   "execution_count": null,
   "metadata": {},
   "outputs": [
    {
     "ename": "AttributeError",
     "evalue": "module 'opendp.prelude' has no attribute 'extras'",
     "output_type": "error",
     "traceback": [
      "\u001b[31m---------------------------------------------------------------------------\u001b[39m",
      "\u001b[31mAttributeError\u001b[39m                            Traceback (most recent call last)",
      "\u001b[36mCell\u001b[39m\u001b[36m \u001b[39m\u001b[32mIn[8]\u001b[39m\u001b[32m, line 6\u001b[39m\n\u001b[32m      2\u001b[39m \u001b[38;5;28;01mimport\u001b[39;00m\u001b[38;5;250m \u001b[39m\u001b[34;01mpolars\u001b[39;00m\u001b[38;5;250m \u001b[39m\u001b[38;5;28;01mas\u001b[39;00m\u001b[38;5;250m \u001b[39m\u001b[34;01mpl\u001b[39;00m\n\u001b[32m      4\u001b[39m dp.enable_features(\u001b[33m\"\u001b[39m\u001b[33mcontrib\u001b[39m\u001b[33m\"\u001b[39m)\n\u001b[32m----> \u001b[39m\u001b[32m6\u001b[39m df = pl.scan_csv(\u001b[43mdp\u001b[49m\u001b[43m.\u001b[49m\u001b[43mextras\u001b[49m.examples.get_california_pums_path(), has_header=\u001b[38;5;28;01mFalse\u001b[39;00m, ignore_errors=\u001b[38;5;28;01mTrue\u001b[39;00m)\n",
      "\u001b[31mAttributeError\u001b[39m: module 'opendp.prelude' has no attribute 'extras'"
     ]
    }
   ],
   "source": [
    "import opendp.prelude as dp\n",
    "import polars as pl\n",
    "\n",
    "dp.enable_features(\"contrib\")\n",
    "\n",
    "df = pl.scan_csv(dp.examples.get_california_pums_path(), has_header=False, ignore_errors=True)"
   ]
  },
  {
   "cell_type": "code",
   "execution_count": null,
   "metadata": {},
   "outputs": [],
   "source": [
    "# the greatest number of records that any one individual can influence in the dataset\n",
    "max_influence = 1\n",
    "# establish public information\n",
    "col_names = [\"age\", \"sex\", \"educ\", \"race\", \"income\", \"married\"]\n",
    "# we can also reasonably intuit that age and income will be numeric,\n",
    "#     as well as bounds for them, without looking at the data\n",
    "age_bounds = (0, 100)\n",
    "income_bounds = (0, 150_000)"
   ]
  },
  {
   "cell_type": "code",
   "execution_count": null,
   "metadata": {},
   "outputs": [],
   "source": [
    "df = df.collect()\n",
    "\n",
    "# Renommer les colonnes\n",
    "df = df.rename({old: new for old, new in zip(df.columns, col_names)}).lazy()\n",
    "\n",
    "df.collect_schema()"
   ]
  },
  {
   "cell_type": "code",
   "execution_count": null,
   "metadata": {},
   "outputs": [],
   "source": [
    "df.collect().shape\n",
    "df.head().collect()"
   ]
  },
  {
   "cell_type": "markdown",
   "metadata": {},
   "source": [
    "# OpenDP"
   ]
  },
  {
   "cell_type": "code",
   "execution_count": null,
   "metadata": {},
   "outputs": [],
   "source": [
    "# Nécessite un LazyDataframe\n",
    "context = dp.Context.compositor(\n",
    "    data=df,\n",
    "    privacy_unit=dp.unit_of(contributions=1),\n",
    "    privacy_loss=dp.loss_of(epsilon=10.0, delta=1e-7),\n",
    "    split_evenly_over=10,\n",
    "    margins={\n",
    "        # when data is not grouped (empty tuple)...\n",
    "        (): dp.polars.Margin(\n",
    "            # ...the biggest (and only) partition is no larger than\n",
    "            #    France population * number of quarters\n",
    "            max_partition_length= 1_0000\n",
    "        ),\n",
    "         # partition keys when grouped by \"race\" are invariant\n",
    "        (\"race\",): dp.polars.Margin(\n",
    "            public_info=\"keys\",\n",
    "        )\n",
    "    },\n",
    ")\n"
   ]
  },
  {
   "cell_type": "code",
   "execution_count": null,
   "metadata": {},
   "outputs": [],
   "source": [
    "query = (\n",
    "    context.query()\n",
    "    .select(\n",
    "        pl.col(\"age\")\n",
    "        .cast(int)\n",
    "        .fill_null(0)\n",
    "        .dp.sum(bounds=(0, 100))\n",
    "        .alias(\"Somme des ages\"),\n",
    "\n",
    "        dp.len()\n",
    "        .alias(\"Taille dataset\")\n",
    "    )\n",
    ")\n",
    "# C'est compté comme une seule query en terme d'epsilon\n",
    "\n",
    "#query = context.query().group_by(\"sex\", \"race\", \"married\", \"educ\").agg(dp.len())\n",
    "query.summarize(alpha=0.05)"
   ]
  },
  {
   "cell_type": "code",
   "execution_count": null,
   "metadata": {},
   "outputs": [],
   "source": [
    "print(\"ages bruitées :\",query.release().collect().with_columns(Moyenne=pl.col(\"Somme des ages\") / pl.col(\"Taille dataset\")))\n",
    "print(\"ages :\",df.select(pl.col(\"age\").sum(), pl.len()).collect())"
   ]
  },
  {
   "cell_type": "code",
   "execution_count": null,
   "metadata": {},
   "outputs": [],
   "source": [
    "candidates = list(range(20, 60))\n",
    "\n",
    "query = (\n",
    "    context.query()\n",
    "    .select(\n",
    "        pl.col.age\n",
    "        .fill_null(0)\n",
    "        .dp.quantile(p, candidates)\n",
    "        .alias(f\"{p}-Quantile\")\n",
    "        for p in [0.25, 0.5, 0.75]\n",
    "    )\n",
    ")\n",
    "\n",
    "query.summarize(alpha=0.05)"
   ]
  },
  {
   "cell_type": "code",
   "execution_count": null,
   "metadata": {},
   "outputs": [],
   "source": [
    "query.release().collect()"
   ]
  },
  {
   "cell_type": "code",
   "execution_count": null,
   "metadata": {},
   "outputs": [],
   "source": [
    "query = (\n",
    "    context.query()\n",
    "    .group_by(\"race\")\n",
    "    .agg(dp.len())\n",
    ")\n",
    "\n",
    "print(query.summarize(alpha=0.05))\n",
    "result = query.release().collect()"
   ]
  },
  {
   "cell_type": "code",
   "execution_count": null,
   "metadata": {},
   "outputs": [],
   "source": [
    "import matplotlib.pyplot as plt\n",
    "import seaborn as sns\n",
    "\n",
    "# Exemples de données\n",
    "import polars as pl\n",
    "import pandas as pd\n",
    "\n",
    "\n",
    "# Convertir Polars DataFrame en Pandas pour utiliser Seaborn\n",
    "df_pandas = result.to_pandas()\n",
    "\n",
    "# Créer une liste pour stocker les valeurs répétées\n",
    "repeated_values = []\n",
    "\n",
    "# Répéter chaque 'age' selon la valeur de 'len'\n",
    "for index, row in df_pandas.iterrows():\n",
    "    repeated_values.extend([row['race']] * row['len'])\n",
    "\n",
    "# Créer un DataFrame Pandas avec les valeurs répétées\n",
    "df_pandas_repeated = pd.DataFrame(repeated_values, columns=['race'])\n",
    "\n",
    "# Créer la figure et les axes\n",
    "fig, axes = plt.subplots(2, 1, figsize=(10, 8))\n",
    "\n",
    "# Histogramme du DataFrame Polars (avec la colonne len)\n",
    "sns.countplot(x='race', data=df_pandas_repeated, ax=axes[0])\n",
    "axes[0].set_title('Barplot - race (valeurs répétées)')\n",
    "\n",
    "# Barplot pour la colonne 'race' directement dans le DataFrame collecté\n",
    "sns.countplot(x='race', data=df.collect().to_pandas(), ax=axes[1])\n",
    "axes[1].set_title('Barplot - race (original)')\n",
    "\n",
    "# Afficher le graphique\n",
    "plt.tight_layout()\n",
    "plt.show()\n"
   ]
  },
  {
   "cell_type": "code",
   "execution_count": null,
   "metadata": {},
   "outputs": [],
   "source": [
    "query = (\n",
    "    context.query()\n",
    "    .group_by(\"race\")\n",
    "    .agg(dp.len())\n",
    ")\n",
    "\n",
    "print(query.summarize(alpha=0.05))\n",
    "query.release().collect()"
   ]
  },
  {
   "cell_type": "code",
   "execution_count": null,
   "metadata": {},
   "outputs": [],
   "source": [
    "import matplotlib.pyplot as plt\n",
    "import seaborn as sns\n",
    "\n",
    "# Exemples de données\n",
    "import polars as pl\n",
    "import pandas as pd\n",
    "\n",
    "\n",
    "# Convertir Polars DataFrame en Pandas pour utiliser Seaborn\n",
    "df_pandas = query.release().collect().to_pandas()\n",
    "\n",
    "# Créer une liste pour stocker les valeurs répétées\n",
    "repeated_values = []\n",
    "\n",
    "# Répéter chaque 'age' selon la valeur de 'len'\n",
    "for index, row in df_pandas.iterrows():\n",
    "    repeated_values.extend([row['race']] * row['len'])\n",
    "\n",
    "# Créer un DataFrame Pandas avec les valeurs répétées\n",
    "df_pandas_repeated = pd.DataFrame(repeated_values, columns=['race'])\n",
    "\n",
    "# Créer la figure et les axes\n",
    "fig, axes = plt.subplots(2, 1, figsize=(10, 8))\n",
    "\n",
    "# Histogramme du DataFrame Polars (avec la colonne len)\n",
    "sns.countplot(x='race', data=df_pandas_repeated, ax=axes[0])\n",
    "axes[0].set_title('Barplot - race (valeurs répétées)')\n",
    "\n",
    "# Barplot pour la colonne 'race' directement dans le DataFrame collecté\n",
    "sns.countplot(x='race', data=df.collect().to_pandas(), ax=axes[1])\n",
    "axes[1].set_title('Barplot - race (original)')\n",
    "\n",
    "# Afficher le graphique\n",
    "plt.tight_layout()\n",
    "plt.show()"
   ]
  },
  {
   "cell_type": "markdown",
   "metadata": {},
   "source": [
    "dp.loss_of(epsilon=1.0) → dp.loss_of(rho=0.1) pour passer du laplace à Gauss"
   ]
  },
  {
   "cell_type": "code",
   "execution_count": null,
   "metadata": {},
   "outputs": [],
   "source": []
  }
 ],
 "metadata": {
  "kernelspec": {
   "display_name": "base",
   "language": "python",
   "name": "python3"
  },
  "language_info": {
   "codemirror_mode": {
    "name": "ipython",
    "version": 3
   },
   "file_extension": ".py",
   "mimetype": "text/x-python",
   "name": "python",
   "nbconvert_exporter": "python",
   "pygments_lexer": "ipython3",
   "version": "3.12.9"
  }
 },
 "nbformat": 4,
 "nbformat_minor": 2
}

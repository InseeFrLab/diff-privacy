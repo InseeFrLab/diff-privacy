{
 "cells": [
  {
   "cell_type": "code",
   "execution_count": 60,
   "id": "8be36a7d",
   "metadata": {},
   "outputs": [
    {
     "name": "stdout",
     "output_type": "stream",
     "text": [
      "Requirement already satisfied: lomas-client in /usr/local/lib/python3.12/site-packages (0.4.1)\n",
      "Requirement already satisfied: lomas-core==0.4.1 in /usr/local/lib/python3.12/site-packages (from lomas-client) (0.4.1)\n",
      "Requirement already satisfied: opentelemetry-instrumentation-requests==0.50b0 in /usr/local/lib/python3.12/site-packages (from lomas-client) (0.50b0)\n",
      "Requirement already satisfied: requests==2.32.0 in /usr/local/lib/python3.12/site-packages (from lomas-client) (2.32.0)\n",
      "Requirement already satisfied: diffprivlib==0.6.5 in /usr/local/lib/python3.12/site-packages (from lomas-core==0.4.1->lomas-client) (0.6.5)\n",
      "Requirement already satisfied: diffprivlib_logger>=0.0.3 in /usr/local/lib/python3.12/site-packages (from lomas-core==0.4.1->lomas-client) (0.0.3)\n",
      "Requirement already satisfied: fastapi>=0.111.1 in /usr/local/lib/python3.12/site-packages (from lomas-core==0.4.1->lomas-client) (0.115.12)\n",
      "Requirement already satisfied: numpy>=1.26.4 in /usr/local/lib/python3.12/site-packages (from lomas-core==0.4.1->lomas-client) (1.26.4)\n",
      "Requirement already satisfied: opendp==0.10.0 in /usr/local/lib/python3.12/site-packages (from lomas-core==0.4.1->lomas-client) (0.10.0)\n",
      "Requirement already satisfied: opendp_logger>=0.3.0 in /usr/local/lib/python3.12/site-packages (from lomas-core==0.4.1->lomas-client) (0.3.0)\n",
      "Requirement already satisfied: opentelemetry-api>=1.29.0 in /usr/local/lib/python3.12/site-packages (from lomas-core==0.4.1->lomas-client) (1.29.0)\n",
      "Requirement already satisfied: opentelemetry-exporter-otlp>=1.29.0 in /usr/local/lib/python3.12/site-packages (from lomas-core==0.4.1->lomas-client) (1.29.0)\n",
      "Requirement already satisfied: opentelemetry-sdk>=1.29.0 in /usr/local/lib/python3.12/site-packages (from lomas-core==0.4.1->lomas-client) (1.29.0)\n",
      "Requirement already satisfied: pandas>=2.2.2 in /usr/local/lib/python3.12/site-packages (from lomas-core==0.4.1->lomas-client) (2.2.3)\n",
      "Requirement already satisfied: pymongo>=4.6.3 in /usr/local/lib/python3.12/site-packages (from lomas-core==0.4.1->lomas-client) (4.12.0)\n",
      "Requirement already satisfied: scikit-learn>=1.4.2 in /usr/local/lib/python3.12/site-packages (from lomas-core==0.4.1->lomas-client) (1.6.1)\n",
      "Requirement already satisfied: smartnoise-synth>=1.0.4 in /usr/local/lib/python3.12/site-packages (from lomas-core==0.4.1->lomas-client) (1.0.4)\n",
      "Requirement already satisfied: smartnoise_synth_logger>=0.0.3 in /usr/local/lib/python3.12/site-packages (from lomas-core==0.4.1->lomas-client) (0.0.4)\n",
      "Requirement already satisfied: opentelemetry-instrumentation==0.50b0 in /usr/local/lib/python3.12/site-packages (from opentelemetry-instrumentation-requests==0.50b0->lomas-client) (0.50b0)\n",
      "Requirement already satisfied: opentelemetry-semantic-conventions==0.50b0 in /usr/local/lib/python3.12/site-packages (from opentelemetry-instrumentation-requests==0.50b0->lomas-client) (0.50b0)\n",
      "Requirement already satisfied: opentelemetry-util-http==0.50b0 in /usr/local/lib/python3.12/site-packages (from opentelemetry-instrumentation-requests==0.50b0->lomas-client) (0.50b0)\n",
      "Requirement already satisfied: charset-normalizer<4,>=2 in /usr/local/lib/python3.12/site-packages (from requests==2.32.0->lomas-client) (3.4.1)\n",
      "Requirement already satisfied: idna<4,>=2.5 in /usr/local/lib/python3.12/site-packages (from requests==2.32.0->lomas-client) (3.10)\n",
      "Requirement already satisfied: urllib3<3,>=1.21.1 in /usr/local/lib/python3.12/site-packages (from requests==2.32.0->lomas-client) (2.4.0)\n",
      "Requirement already satisfied: certifi>=2017.4.17 in /usr/local/lib/python3.12/site-packages (from requests==2.32.0->lomas-client) (2025.1.31)\n",
      "Requirement already satisfied: scipy>=1.7.3 in /usr/local/lib/python3.12/site-packages (from diffprivlib==0.6.5->lomas-core==0.4.1->lomas-client) (1.15.2)\n",
      "Requirement already satisfied: joblib>=0.16.0 in /usr/local/lib/python3.12/site-packages (from diffprivlib==0.6.5->lomas-core==0.4.1->lomas-client) (1.4.2)\n",
      "Requirement already satisfied: setuptools>=49.0.0 in /usr/local/lib/python3.12/site-packages (from diffprivlib==0.6.5->lomas-core==0.4.1->lomas-client) (80.0.0)\n",
      "Requirement already satisfied: packaging>=18.0 in /usr/local/lib/python3.12/site-packages (from opentelemetry-instrumentation==0.50b0->opentelemetry-instrumentation-requests==0.50b0->lomas-client) (24.2)\n",
      "Requirement already satisfied: wrapt<2.0.0,>=1.0.0 in /usr/local/lib/python3.12/site-packages (from opentelemetry-instrumentation==0.50b0->opentelemetry-instrumentation-requests==0.50b0->lomas-client) (1.17.2)\n",
      "Requirement already satisfied: deprecated>=1.2.6 in /usr/local/lib/python3.12/site-packages (from opentelemetry-semantic-conventions==0.50b0->opentelemetry-instrumentation-requests==0.50b0->lomas-client) (1.2.18)\n",
      "Requirement already satisfied: importlib-metadata<=8.5.0,>=6.0 in /usr/local/lib/python3.12/site-packages (from opentelemetry-api>=1.29.0->lomas-core==0.4.1->lomas-client) (8.5.0)\n",
      "Requirement already satisfied: starlette<0.47.0,>=0.40.0 in /usr/local/lib/python3.12/site-packages (from fastapi>=0.111.1->lomas-core==0.4.1->lomas-client) (0.46.2)\n",
      "Requirement already satisfied: pydantic!=1.8,!=1.8.1,!=2.0.0,!=2.0.1,!=2.1.0,<3.0.0,>=1.7.4 in /usr/local/lib/python3.12/site-packages (from fastapi>=0.111.1->lomas-core==0.4.1->lomas-client) (2.11.3)\n",
      "Requirement already satisfied: typing-extensions>=4.8.0 in /usr/local/lib/python3.12/site-packages (from fastapi>=0.111.1->lomas-core==0.4.1->lomas-client) (4.13.2)\n",
      "Requirement already satisfied: opentelemetry-exporter-otlp-proto-grpc==1.29.0 in /usr/local/lib/python3.12/site-packages (from opentelemetry-exporter-otlp>=1.29.0->lomas-core==0.4.1->lomas-client) (1.29.0)\n",
      "Requirement already satisfied: opentelemetry-exporter-otlp-proto-http==1.29.0 in /usr/local/lib/python3.12/site-packages (from opentelemetry-exporter-otlp>=1.29.0->lomas-core==0.4.1->lomas-client) (1.29.0)\n",
      "Requirement already satisfied: googleapis-common-protos~=1.52 in /usr/local/lib/python3.12/site-packages (from opentelemetry-exporter-otlp-proto-grpc==1.29.0->opentelemetry-exporter-otlp>=1.29.0->lomas-core==0.4.1->lomas-client) (1.70.0)\n",
      "Requirement already satisfied: grpcio<2.0.0,>=1.63.2 in /usr/local/lib/python3.12/site-packages (from opentelemetry-exporter-otlp-proto-grpc==1.29.0->opentelemetry-exporter-otlp>=1.29.0->lomas-core==0.4.1->lomas-client) (1.71.0)\n",
      "Requirement already satisfied: opentelemetry-exporter-otlp-proto-common==1.29.0 in /usr/local/lib/python3.12/site-packages (from opentelemetry-exporter-otlp-proto-grpc==1.29.0->opentelemetry-exporter-otlp>=1.29.0->lomas-core==0.4.1->lomas-client) (1.29.0)\n",
      "Requirement already satisfied: opentelemetry-proto==1.29.0 in /usr/local/lib/python3.12/site-packages (from opentelemetry-exporter-otlp-proto-grpc==1.29.0->opentelemetry-exporter-otlp>=1.29.0->lomas-core==0.4.1->lomas-client) (1.29.0)\n",
      "Requirement already satisfied: protobuf<6.0,>=5.0 in /usr/local/lib/python3.12/site-packages (from opentelemetry-proto==1.29.0->opentelemetry-exporter-otlp-proto-grpc==1.29.0->opentelemetry-exporter-otlp>=1.29.0->lomas-core==0.4.1->lomas-client) (5.29.4)\n",
      "Requirement already satisfied: python-dateutil>=2.8.2 in /usr/local/lib/python3.12/site-packages (from pandas>=2.2.2->lomas-core==0.4.1->lomas-client) (2.9.0.post0)\n",
      "Requirement already satisfied: pytz>=2020.1 in /usr/local/lib/python3.12/site-packages (from pandas>=2.2.2->lomas-core==0.4.1->lomas-client) (2025.2)\n",
      "Requirement already satisfied: tzdata>=2022.7 in /usr/local/lib/python3.12/site-packages (from pandas>=2.2.2->lomas-core==0.4.1->lomas-client) (2025.2)\n",
      "Requirement already satisfied: dnspython<3.0.0,>=1.16.0 in /usr/local/lib/python3.12/site-packages (from pymongo>=4.6.3->lomas-core==0.4.1->lomas-client) (2.7.0)\n",
      "Requirement already satisfied: threadpoolctl>=3.1.0 in /usr/local/lib/python3.12/site-packages (from scikit-learn>=1.4.2->lomas-core==0.4.1->lomas-client) (3.6.0)\n",
      "Requirement already satisfied: Faker>=17.0.0 in /usr/local/lib/python3.12/site-packages (from smartnoise-synth>=1.0.4->lomas-core==0.4.1->lomas-client) (37.1.0)\n",
      "Requirement already satisfied: opacus<0.15.0,>=0.14.0 in /usr/local/lib/python3.12/site-packages (from smartnoise-synth>=1.0.4->lomas-core==0.4.1->lomas-client) (0.14.0)\n",
      "Requirement already satisfied: pac-synth<0.0.9,>=0.0.8 in /usr/local/lib/python3.12/site-packages (from smartnoise-synth>=1.0.4->lomas-core==0.4.1->lomas-client) (0.0.8)\n",
      "Requirement already satisfied: smartnoise-sql<2.0.0,>=1.0.4 in /usr/local/lib/python3.12/site-packages (from smartnoise-synth>=1.0.4->lomas-core==0.4.1->lomas-client) (1.0.6)\n",
      "Requirement already satisfied: torch>=2.2.0 in /usr/local/lib/python3.12/site-packages (from smartnoise-synth>=1.0.4->lomas-core==0.4.1->lomas-client) (2.7.0)\n",
      "Requirement already satisfied: zipp>=3.20 in /usr/local/lib/python3.12/site-packages (from importlib-metadata<=8.5.0,>=6.0->opentelemetry-api>=1.29.0->lomas-core==0.4.1->lomas-client) (3.21.0)\n",
      "Requirement already satisfied: annotated-types>=0.6.0 in /usr/local/lib/python3.12/site-packages (from pydantic!=1.8,!=1.8.1,!=2.0.0,!=2.0.1,!=2.1.0,<3.0.0,>=1.7.4->fastapi>=0.111.1->lomas-core==0.4.1->lomas-client) (0.7.0)\n",
      "Requirement already satisfied: pydantic-core==2.33.1 in /usr/local/lib/python3.12/site-packages (from pydantic!=1.8,!=1.8.1,!=2.0.0,!=2.0.1,!=2.1.0,<3.0.0,>=1.7.4->fastapi>=0.111.1->lomas-core==0.4.1->lomas-client) (2.33.1)\n",
      "Requirement already satisfied: typing-inspection>=0.4.0 in /usr/local/lib/python3.12/site-packages (from pydantic!=1.8,!=1.8.1,!=2.0.0,!=2.0.1,!=2.1.0,<3.0.0,>=1.7.4->fastapi>=0.111.1->lomas-core==0.4.1->lomas-client) (0.4.0)\n",
      "Requirement already satisfied: six>=1.5 in /usr/local/lib/python3.12/site-packages (from python-dateutil>=2.8.2->pandas>=2.2.2->lomas-core==0.4.1->lomas-client) (1.17.0)\n",
      "Requirement already satisfied: PyYAML<7.0.0,>=6.0.1 in /usr/local/lib/python3.12/site-packages (from smartnoise-sql<2.0.0,>=1.0.4->smartnoise-synth>=1.0.4->lomas-core==0.4.1->lomas-client) (6.0.2)\n",
      "Requirement already satisfied: antlr4-python3-runtime==4.9.3 in /usr/local/lib/python3.12/site-packages (from smartnoise-sql<2.0.0,>=1.0.4->smartnoise-synth>=1.0.4->lomas-core==0.4.1->lomas-client) (4.9.3)\n",
      "Requirement already satisfied: graphviz<1.0,>=0.17 in /usr/local/lib/python3.12/site-packages (from smartnoise-sql<2.0.0,>=1.0.4->smartnoise-synth>=1.0.4->lomas-core==0.4.1->lomas-client) (0.20.3)\n",
      "Requirement already satisfied: sqlalchemy<3.0.0,>=2.0.0 in /usr/local/lib/python3.12/site-packages (from smartnoise-sql<2.0.0,>=1.0.4->smartnoise-synth>=1.0.4->lomas-core==0.4.1->lomas-client) (2.0.40)\n",
      "Requirement already satisfied: anyio<5,>=3.6.2 in /usr/local/lib/python3.12/site-packages (from starlette<0.47.0,>=0.40.0->fastapi>=0.111.1->lomas-core==0.4.1->lomas-client) (4.9.0)\n",
      "Requirement already satisfied: filelock in /usr/local/lib/python3.12/site-packages (from torch>=2.2.0->smartnoise-synth>=1.0.4->lomas-core==0.4.1->lomas-client) (3.18.0)\n",
      "Requirement already satisfied: sympy>=1.13.3 in /usr/local/lib/python3.12/site-packages (from torch>=2.2.0->smartnoise-synth>=1.0.4->lomas-core==0.4.1->lomas-client) (1.14.0)\n",
      "Requirement already satisfied: networkx in /usr/local/lib/python3.12/site-packages (from torch>=2.2.0->smartnoise-synth>=1.0.4->lomas-core==0.4.1->lomas-client) (3.4.2)\n",
      "Requirement already satisfied: jinja2 in /usr/local/lib/python3.12/site-packages (from torch>=2.2.0->smartnoise-synth>=1.0.4->lomas-core==0.4.1->lomas-client) (3.1.6)\n",
      "Requirement already satisfied: fsspec in /usr/local/lib/python3.12/site-packages (from torch>=2.2.0->smartnoise-synth>=1.0.4->lomas-core==0.4.1->lomas-client) (2025.3.2)\n",
      "Requirement already satisfied: nvidia-cuda-nvrtc-cu12==12.6.77 in /usr/local/lib/python3.12/site-packages (from torch>=2.2.0->smartnoise-synth>=1.0.4->lomas-core==0.4.1->lomas-client) (12.6.77)\n",
      "Requirement already satisfied: nvidia-cuda-runtime-cu12==12.6.77 in /usr/local/lib/python3.12/site-packages (from torch>=2.2.0->smartnoise-synth>=1.0.4->lomas-core==0.4.1->lomas-client) (12.6.77)\n",
      "Requirement already satisfied: nvidia-cuda-cupti-cu12==12.6.80 in /usr/local/lib/python3.12/site-packages (from torch>=2.2.0->smartnoise-synth>=1.0.4->lomas-core==0.4.1->lomas-client) (12.6.80)\n",
      "Requirement already satisfied: nvidia-cudnn-cu12==9.5.1.17 in /usr/local/lib/python3.12/site-packages (from torch>=2.2.0->smartnoise-synth>=1.0.4->lomas-core==0.4.1->lomas-client) (9.5.1.17)\n",
      "Requirement already satisfied: nvidia-cublas-cu12==12.6.4.1 in /usr/local/lib/python3.12/site-packages (from torch>=2.2.0->smartnoise-synth>=1.0.4->lomas-core==0.4.1->lomas-client) (12.6.4.1)\n",
      "Requirement already satisfied: nvidia-cufft-cu12==11.3.0.4 in /usr/local/lib/python3.12/site-packages (from torch>=2.2.0->smartnoise-synth>=1.0.4->lomas-core==0.4.1->lomas-client) (11.3.0.4)\n",
      "Requirement already satisfied: nvidia-curand-cu12==10.3.7.77 in /usr/local/lib/python3.12/site-packages (from torch>=2.2.0->smartnoise-synth>=1.0.4->lomas-core==0.4.1->lomas-client) (10.3.7.77)\n",
      "Requirement already satisfied: nvidia-cusolver-cu12==11.7.1.2 in /usr/local/lib/python3.12/site-packages (from torch>=2.2.0->smartnoise-synth>=1.0.4->lomas-core==0.4.1->lomas-client) (11.7.1.2)\n",
      "Requirement already satisfied: nvidia-cusparse-cu12==12.5.4.2 in /usr/local/lib/python3.12/site-packages (from torch>=2.2.0->smartnoise-synth>=1.0.4->lomas-core==0.4.1->lomas-client) (12.5.4.2)\n",
      "Requirement already satisfied: nvidia-cusparselt-cu12==0.6.3 in /usr/local/lib/python3.12/site-packages (from torch>=2.2.0->smartnoise-synth>=1.0.4->lomas-core==0.4.1->lomas-client) (0.6.3)\n",
      "Requirement already satisfied: nvidia-nccl-cu12==2.26.2 in /usr/local/lib/python3.12/site-packages (from torch>=2.2.0->smartnoise-synth>=1.0.4->lomas-core==0.4.1->lomas-client) (2.26.2)\n",
      "Requirement already satisfied: nvidia-nvtx-cu12==12.6.77 in /usr/local/lib/python3.12/site-packages (from torch>=2.2.0->smartnoise-synth>=1.0.4->lomas-core==0.4.1->lomas-client) (12.6.77)\n",
      "Requirement already satisfied: nvidia-nvjitlink-cu12==12.6.85 in /usr/local/lib/python3.12/site-packages (from torch>=2.2.0->smartnoise-synth>=1.0.4->lomas-core==0.4.1->lomas-client) (12.6.85)\n",
      "Requirement already satisfied: nvidia-cufile-cu12==1.11.1.6 in /usr/local/lib/python3.12/site-packages (from torch>=2.2.0->smartnoise-synth>=1.0.4->lomas-core==0.4.1->lomas-client) (1.11.1.6)\n",
      "Requirement already satisfied: triton==3.3.0 in /usr/local/lib/python3.12/site-packages (from torch>=2.2.0->smartnoise-synth>=1.0.4->lomas-core==0.4.1->lomas-client) (3.3.0)\n",
      "Requirement already satisfied: sniffio>=1.1 in /usr/local/lib/python3.12/site-packages (from anyio<5,>=3.6.2->starlette<0.47.0,>=0.40.0->fastapi>=0.111.1->lomas-core==0.4.1->lomas-client) (1.3.1)\n",
      "Requirement already satisfied: greenlet>=1 in /usr/local/lib/python3.12/site-packages (from sqlalchemy<3.0.0,>=2.0.0->smartnoise-sql<2.0.0,>=1.0.4->smartnoise-synth>=1.0.4->lomas-core==0.4.1->lomas-client) (3.2.0)\n",
      "Requirement already satisfied: mpmath<1.4,>=1.1.0 in /usr/local/lib/python3.12/site-packages (from sympy>=1.13.3->torch>=2.2.0->smartnoise-synth>=1.0.4->lomas-core==0.4.1->lomas-client) (1.3.0)\n",
      "Requirement already satisfied: MarkupSafe>=2.0 in /usr/local/lib/python3.12/site-packages (from jinja2->torch>=2.2.0->smartnoise-synth>=1.0.4->lomas-core==0.4.1->lomas-client) (3.0.2)\n",
      "\n",
      "\u001b[1m[\u001b[0m\u001b[34;49mnotice\u001b[0m\u001b[1;39;49m]\u001b[0m\u001b[39;49m A new release of pip is available: \u001b[0m\u001b[31;49m25.0.1\u001b[0m\u001b[39;49m -> \u001b[0m\u001b[32;49m25.1\u001b[0m\n",
      "\u001b[1m[\u001b[0m\u001b[34;49mnotice\u001b[0m\u001b[1;39;49m]\u001b[0m\u001b[39;49m To update, run: \u001b[0m\u001b[32;49mpip install --upgrade pip\u001b[0m\n",
      "Note: you may need to restart the kernel to use updated packages.\n"
     ]
    }
   ],
   "source": [
    "%pip install lomas-client"
   ]
  },
  {
   "cell_type": "code",
   "execution_count": 61,
   "id": "1d019e14",
   "metadata": {},
   "outputs": [],
   "source": [
    "# Step 1\n",
    "from lomas_client import Client\n",
    "import numpy as np\n",
    "import opendp.prelude as dp\n",
    "\n",
    "# Step 2\n",
    "APP_URL = \"https://user-stuartbenoliel-67556-lomas-server-user.lab.sspcloud.fr\"\n",
    "# URL mort\n",
    "USER_NAME = \"Dr. Antartica\"\n",
    "DATASET_NAME = \"PENGUIN\"\n",
    "client = Client(url=APP_URL, user_name = USER_NAME, dataset_name = DATASET_NAME)\n",
    "\n",
    "# Step 3"
   ]
  },
  {
   "cell_type": "code",
   "execution_count": 62,
   "id": "ecd6a9bc",
   "metadata": {},
   "outputs": [
    {
     "data": {
      "text/plain": [
       "{'max_ids': 1,\n",
       " 'rows': 344,\n",
       " 'row_privacy': True,\n",
       " 'censor_dims': False,\n",
       " 'columns': {'species': {'private_id': False,\n",
       "   'nullable': False,\n",
       "   'max_partition_length': None,\n",
       "   'max_influenced_partitions': None,\n",
       "   'max_partition_contributions': None,\n",
       "   'type': 'string',\n",
       "   'cardinality': 3,\n",
       "   'categories': ['Adelie', 'Chinstrap', 'Gentoo']},\n",
       "  'island': {'private_id': False,\n",
       "   'nullable': False,\n",
       "   'max_partition_length': None,\n",
       "   'max_influenced_partitions': None,\n",
       "   'max_partition_contributions': None,\n",
       "   'type': 'string',\n",
       "   'cardinality': 3,\n",
       "   'categories': ['Torgersen', 'Biscoe', 'Dream']},\n",
       "  'bill_length_mm': {'private_id': False,\n",
       "   'nullable': False,\n",
       "   'max_partition_length': None,\n",
       "   'max_influenced_partitions': None,\n",
       "   'max_partition_contributions': None,\n",
       "   'type': 'float',\n",
       "   'precision': 64,\n",
       "   'lower': 30.0,\n",
       "   'upper': 65.0},\n",
       "  'bill_depth_mm': {'private_id': False,\n",
       "   'nullable': False,\n",
       "   'max_partition_length': None,\n",
       "   'max_influenced_partitions': None,\n",
       "   'max_partition_contributions': None,\n",
       "   'type': 'float',\n",
       "   'precision': 64,\n",
       "   'lower': 13.0,\n",
       "   'upper': 23.0},\n",
       "  'flipper_length_mm': {'private_id': False,\n",
       "   'nullable': False,\n",
       "   'max_partition_length': None,\n",
       "   'max_influenced_partitions': None,\n",
       "   'max_partition_contributions': None,\n",
       "   'type': 'float',\n",
       "   'precision': 64,\n",
       "   'lower': 150.0,\n",
       "   'upper': 250.0},\n",
       "  'body_mass_g': {'private_id': False,\n",
       "   'nullable': False,\n",
       "   'max_partition_length': None,\n",
       "   'max_influenced_partitions': None,\n",
       "   'max_partition_contributions': None,\n",
       "   'type': 'float',\n",
       "   'precision': 64,\n",
       "   'lower': 2000.0,\n",
       "   'upper': 7000.0},\n",
       "  'sex': {'private_id': False,\n",
       "   'nullable': False,\n",
       "   'max_partition_length': None,\n",
       "   'max_influenced_partitions': None,\n",
       "   'max_partition_contributions': None,\n",
       "   'type': 'string',\n",
       "   'cardinality': 2,\n",
       "   'categories': ['MALE', 'FEMALE']}}}"
      ]
     },
     "execution_count": 62,
     "metadata": {},
     "output_type": "execute_result"
    }
   ],
   "source": [
    "penguin_metadata = client.get_dataset_metadata()\n",
    "penguin_metadata"
   ]
  },
  {
   "cell_type": "code",
   "execution_count": 63,
   "id": "b45e36bf",
   "metadata": {},
   "outputs": [
    {
     "name": "stdout",
     "output_type": "stream",
     "text": [
      "(100, 7)\n"
     ]
    },
    {
     "data": {
      "text/html": [
       "<div>\n",
       "<style scoped>\n",
       "    .dataframe tbody tr th:only-of-type {\n",
       "        vertical-align: middle;\n",
       "    }\n",
       "\n",
       "    .dataframe tbody tr th {\n",
       "        vertical-align: top;\n",
       "    }\n",
       "\n",
       "    .dataframe thead th {\n",
       "        text-align: right;\n",
       "    }\n",
       "</style>\n",
       "<table border=\"1\" class=\"dataframe\">\n",
       "  <thead>\n",
       "    <tr style=\"text-align: right;\">\n",
       "      <th></th>\n",
       "      <th>species</th>\n",
       "      <th>island</th>\n",
       "      <th>bill_length_mm</th>\n",
       "      <th>bill_depth_mm</th>\n",
       "      <th>flipper_length_mm</th>\n",
       "      <th>body_mass_g</th>\n",
       "      <th>sex</th>\n",
       "    </tr>\n",
       "  </thead>\n",
       "  <tbody>\n",
       "    <tr>\n",
       "      <th>0</th>\n",
       "      <td>Adelie</td>\n",
       "      <td>Dream</td>\n",
       "      <td>61.800324</td>\n",
       "      <td>20.774048</td>\n",
       "      <td>227.899635</td>\n",
       "      <td>3509.636957</td>\n",
       "      <td>FEMALE</td>\n",
       "    </tr>\n",
       "    <tr>\n",
       "      <th>1</th>\n",
       "      <td>Gentoo</td>\n",
       "      <td>Torgersen</td>\n",
       "      <td>54.489750</td>\n",
       "      <td>22.718264</td>\n",
       "      <td>163.455221</td>\n",
       "      <td>6592.209478</td>\n",
       "      <td>FEMALE</td>\n",
       "    </tr>\n",
       "    <tr>\n",
       "      <th>2</th>\n",
       "      <td>Chinstrap</td>\n",
       "      <td>Dream</td>\n",
       "      <td>39.305449</td>\n",
       "      <td>18.007412</td>\n",
       "      <td>203.606804</td>\n",
       "      <td>5906.470177</td>\n",
       "      <td>FEMALE</td>\n",
       "    </tr>\n",
       "    <tr>\n",
       "      <th>3</th>\n",
       "      <td>Chinstrap</td>\n",
       "      <td>Torgersen</td>\n",
       "      <td>63.921173</td>\n",
       "      <td>14.438975</td>\n",
       "      <td>201.422287</td>\n",
       "      <td>2552.942055</td>\n",
       "      <td>FEMALE</td>\n",
       "    </tr>\n",
       "    <tr>\n",
       "      <th>4</th>\n",
       "      <td>Chinstrap</td>\n",
       "      <td>Dream</td>\n",
       "      <td>57.256282</td>\n",
       "      <td>13.139363</td>\n",
       "      <td>235.757214</td>\n",
       "      <td>6985.173289</td>\n",
       "      <td>MALE</td>\n",
       "    </tr>\n",
       "  </tbody>\n",
       "</table>\n",
       "</div>"
      ],
      "text/plain": [
       "     species     island  bill_length_mm  bill_depth_mm  flipper_length_mm  \\\n",
       "0     Adelie      Dream       61.800324      20.774048         227.899635   \n",
       "1     Gentoo  Torgersen       54.489750      22.718264         163.455221   \n",
       "2  Chinstrap      Dream       39.305449      18.007412         203.606804   \n",
       "3  Chinstrap  Torgersen       63.921173      14.438975         201.422287   \n",
       "4  Chinstrap      Dream       57.256282      13.139363         235.757214   \n",
       "\n",
       "   body_mass_g     sex  \n",
       "0  3509.636957  FEMALE  \n",
       "1  6592.209478  FEMALE  \n",
       "2  5906.470177  FEMALE  \n",
       "3  2552.942055  FEMALE  \n",
       "4  6985.173289    MALE  "
      ]
     },
     "execution_count": 63,
     "metadata": {},
     "output_type": "execute_result"
    }
   ],
   "source": [
    "NB_PENGUINS = penguin_metadata[\"rows\"]\n",
    "columns = list(penguin_metadata[\"columns\"].keys())\n",
    "\n",
    "df_dummy = client.get_dummy_dataset()\n",
    "\n",
    "print(df_dummy.shape)\n",
    "df_dummy.head()"
   ]
  },
  {
   "cell_type": "code",
   "execution_count": 64,
   "id": "0a734d09",
   "metadata": {},
   "outputs": [
    {
     "name": "stdout",
     "output_type": "stream",
     "text": [
      "initial_epsilon=10.0 initial_delta=0.005\n",
      "total_spent_epsilon=0.0 total_spent_delta=0.0\n",
      "remaining_epsilon=10.0 remaining_delta=0.005\n"
     ]
    }
   ],
   "source": [
    "print(client.get_initial_budget())\n",
    "print(client.get_total_spent_budget())\n",
    "print(client.get_remaining_budget())"
   ]
  },
  {
   "cell_type": "code",
   "execution_count": 65,
   "id": "bea5f7d8",
   "metadata": {},
   "outputs": [
    {
     "data": {
      "text/plain": [
       "98"
      ]
     },
     "execution_count": 65,
     "metadata": {},
     "output_type": "execute_result"
    }
   ],
   "source": [
    "num_rows_pipeline = (\n",
    "    dp.t.make_split_dataframe(separator=\",\", col_names=columns) >>\n",
    "    dp.t.make_select_column(key=\"species\", TOA=str) >>\n",
    "    dp.t.then_count() >>\n",
    "    dp.m.then_laplace(scale=5.) # scale arbitrary\n",
    ")\n",
    "\n",
    "num_rows = client.opendp.query(\n",
    "    opendp_pipeline = num_rows_pipeline,\n",
    "    dummy = True\n",
    ").result.value\n",
    "\n",
    "num_rows"
   ]
  },
  {
   "cell_type": "code",
   "execution_count": 78,
   "id": "d74c34be",
   "metadata": {},
   "outputs": [],
   "source": [
    "bill_length_min = penguin_metadata['columns']['bill_length_mm']['lower']\n",
    "bill_length_max = penguin_metadata['columns']['bill_length_mm']['upper']\n",
    "bill_length_min, bill_length_max\n",
    "\n",
    "bill_length_pipeline = (\n",
    "    dp.t.make_split_dataframe(separator=\",\", col_names=columns) >>\n",
    "    dp.t.make_select_column(key=\"bill_length_mm\", TOA=str) >>\n",
    "    dp.t.then_cast_default(TOA=float) >>\n",
    "    dp.t.then_clamp(bounds=(bill_length_min, bill_length_max)) >>\n",
    "    dp.t.then_resize(size=NB_PENGUINS, constant=40.0) >>\n",
    "    dp.t.then_mean() >>\n",
    "    dp.m.then_gaussian(scale=0.5) # Noise addition mechanism instructions\n",
    ")"
   ]
  },
  {
   "cell_type": "code",
   "execution_count": 77,
   "id": "f4872ac4",
   "metadata": {},
   "outputs": [
    {
     "data": {
      "text/plain": [
       "CostResponse(epsilon=0.20348837209353815, delta=0.0)"
      ]
     },
     "execution_count": 77,
     "metadata": {},
     "output_type": "execute_result"
    }
   ],
   "source": [
    "cost_res = client.opendp.cost(\n",
    "    opendp_pipeline = bill_length_pipeline,\n",
    "    fixed_delta=1e-5\n",
    ")\n",
    "cost_res"
   ]
  },
  {
   "cell_type": "code",
   "execution_count": 22,
   "id": "8abbed39",
   "metadata": {},
   "outputs": [
    {
     "name": "stdout",
     "output_type": "stream",
     "text": [
      "Dummy result for mean: 42.26\n"
     ]
    }
   ],
   "source": [
    "dummy_mean_res = client.opendp.query(\n",
    "    opendp_pipeline = bill_length_pipeline,\n",
    "    dummy=True,\n",
    "    fixed_delta=1e-5\n",
    ")\n",
    "print(f\"Dummy result for mean: {np.round(dummy_mean_res.result.value, 2)}\")"
   ]
  },
  {
   "cell_type": "code",
   "execution_count": null,
   "id": "ca426828",
   "metadata": {},
   "outputs": [
    {
     "ename": "ValidationError",
     "evalue": "1 validation error for tagged-union[InvalidQueryExceptionModel,ExternalLibraryExceptionModel,UnauthorizedAccessExceptionModel,InternalServerExceptionModel]\n  JSON input should be string, bytes or bytearray [type=json_type, input_value={'type': 'InvalidQueryExc...lta remaining 0.00498.'}, input_type=dict]\n    For further information visit https://errors.pydantic.dev/2.11/v/json_type",
     "output_type": "error",
     "traceback": [
      "\u001b[31m---------------------------------------------------------------------------\u001b[39m",
      "\u001b[31mValidationError\u001b[39m                           Traceback (most recent call last)",
      "\u001b[36mCell\u001b[39m\u001b[36m \u001b[39m\u001b[32mIn[40]\u001b[39m\u001b[32m, line 1\u001b[39m\n\u001b[32m----> \u001b[39m\u001b[32m1\u001b[39m mean_res = \u001b[43mclient\u001b[49m\u001b[43m.\u001b[49m\u001b[43mopendp\u001b[49m\u001b[43m.\u001b[49m\u001b[43mquery\u001b[49m\u001b[43m(\u001b[49m\n\u001b[32m      2\u001b[39m \u001b[43m    \u001b[49m\u001b[43mopendp_pipeline\u001b[49m\u001b[43m \u001b[49m\u001b[43m=\u001b[49m\u001b[43m \u001b[49m\u001b[43mbill_length_pipeline\u001b[49m\u001b[43m,\u001b[49m\n\u001b[32m      3\u001b[39m \u001b[43m)\u001b[49m\n\u001b[32m      5\u001b[39m mean_bill_length = np.round(mean_res.result.value, \u001b[32m2\u001b[39m)\n\u001b[32m      6\u001b[39m \u001b[38;5;28mprint\u001b[39m(\u001b[33mf\u001b[39m\u001b[33m\"\u001b[39m\u001b[33mMean of bill length: \u001b[39m\u001b[38;5;132;01m{\u001b[39;00mmean_bill_length\u001b[38;5;132;01m}\u001b[39;00m\u001b[33m (from opendp query).\u001b[39m\u001b[33m\"\u001b[39m)\n",
      "\u001b[36mFile \u001b[39m\u001b[32m/usr/local/lib/python3.12/site-packages/lomas_client/libraries/opendp.py:105\u001b[39m, in \u001b[36mOpenDPClient.query\u001b[39m\u001b[34m(self, opendp_pipeline, fixed_delta, dummy, nb_rows, seed)\u001b[39m\n\u001b[32m    102\u001b[39m body = request_model.model_validate(body_dict)\n\u001b[32m    103\u001b[39m res = \u001b[38;5;28mself\u001b[39m.http_client.post(endpoint, body)\n\u001b[32m--> \u001b[39m\u001b[32m105\u001b[39m \u001b[38;5;28;01mreturn\u001b[39;00m \u001b[43mvalidate_model_response\u001b[49m\u001b[43m(\u001b[49m\u001b[43mres\u001b[49m\u001b[43m,\u001b[49m\u001b[43m \u001b[49m\u001b[43mQueryResponse\u001b[49m\u001b[43m)\u001b[49m\n",
      "\u001b[36mFile \u001b[39m\u001b[32m/usr/local/lib/python3.12/site-packages/lomas_client/utils.py:88\u001b[39m, in \u001b[36mvalidate_model_response\u001b[39m\u001b[34m(response, response_model)\u001b[39m\n\u001b[32m     85\u001b[39m     r_model = response_model.model_validate_json(data)\n\u001b[32m     86\u001b[39m     \u001b[38;5;28;01mreturn\u001b[39;00m r_model\n\u001b[32m---> \u001b[39m\u001b[32m88\u001b[39m \u001b[43mraise_error\u001b[49m\u001b[43m(\u001b[49m\u001b[43mresponse\u001b[49m\u001b[43m)\u001b[49m\n\u001b[32m     89\u001b[39m \u001b[38;5;28;01mreturn\u001b[39;00m \u001b[38;5;28;01mNone\u001b[39;00m\n",
      "\u001b[36mFile \u001b[39m\u001b[32m/usr/local/lib/python3.12/site-packages/lomas_client/utils.py:32\u001b[39m, in \u001b[36mraise_error\u001b[39m\u001b[34m(response)\u001b[39m\n\u001b[32m     23\u001b[39m \u001b[38;5;28;01mdef\u001b[39;00m\u001b[38;5;250m \u001b[39m\u001b[34mraise_error\u001b[39m(response: requests.Response) -> \u001b[38;5;28mstr\u001b[39m:\n\u001b[32m     24\u001b[39m \u001b[38;5;250m    \u001b[39m\u001b[33;03m\"\"\"Raise error message based on the HTTP response.\u001b[39;00m\n\u001b[32m     25\u001b[39m \n\u001b[32m     26\u001b[39m \u001b[33;03m    Args:\u001b[39;00m\n\u001b[32m   (...)\u001b[39m\u001b[32m     30\u001b[39m \u001b[33;03m        Server Error\u001b[39;00m\n\u001b[32m     31\u001b[39m \u001b[33;03m    \"\"\"\u001b[39;00m\n\u001b[32m---> \u001b[39m\u001b[32m32\u001b[39m     error_model = \u001b[43mLomasServerExceptionTypeAdapter\u001b[49m\u001b[43m.\u001b[49m\u001b[43mvalidate_json\u001b[49m\u001b[43m(\u001b[49m\u001b[43mresponse\u001b[49m\u001b[43m.\u001b[49m\u001b[43mjson\u001b[49m\u001b[43m(\u001b[49m\u001b[43m)\u001b[49m\u001b[43m)\u001b[49m\n\u001b[32m     33\u001b[39m     \u001b[38;5;28;01mmatch\u001b[39;00m error_model:\n\u001b[32m     34\u001b[39m         \u001b[38;5;28;01mcase\u001b[39;00m InvalidQueryExceptionModel():\n",
      "\u001b[36mFile \u001b[39m\u001b[32m/usr/local/lib/python3.12/site-packages/pydantic/type_adapter.py:468\u001b[39m, in \u001b[36mTypeAdapter.validate_json\u001b[39m\u001b[34m(self, data, strict, context, experimental_allow_partial, by_alias, by_name)\u001b[39m\n\u001b[32m    462\u001b[39m \u001b[38;5;28;01mif\u001b[39;00m by_alias \u001b[38;5;129;01mis\u001b[39;00m \u001b[38;5;28;01mFalse\u001b[39;00m \u001b[38;5;129;01mand\u001b[39;00m by_name \u001b[38;5;129;01mis\u001b[39;00m \u001b[38;5;129;01mnot\u001b[39;00m \u001b[38;5;28;01mTrue\u001b[39;00m:\n\u001b[32m    463\u001b[39m     \u001b[38;5;28;01mraise\u001b[39;00m PydanticUserError(\n\u001b[32m    464\u001b[39m         \u001b[33m'\u001b[39m\u001b[33mAt least one of `by_alias` or `by_name` must be set to True.\u001b[39m\u001b[33m'\u001b[39m,\n\u001b[32m    465\u001b[39m         code=\u001b[33m'\u001b[39m\u001b[33mvalidate-by-alias-and-name-false\u001b[39m\u001b[33m'\u001b[39m,\n\u001b[32m    466\u001b[39m     )\n\u001b[32m--> \u001b[39m\u001b[32m468\u001b[39m \u001b[38;5;28;01mreturn\u001b[39;00m \u001b[38;5;28;43mself\u001b[39;49m\u001b[43m.\u001b[49m\u001b[43mvalidator\u001b[49m\u001b[43m.\u001b[49m\u001b[43mvalidate_json\u001b[49m\u001b[43m(\u001b[49m\n\u001b[32m    469\u001b[39m \u001b[43m    \u001b[49m\u001b[43mdata\u001b[49m\u001b[43m,\u001b[49m\n\u001b[32m    470\u001b[39m \u001b[43m    \u001b[49m\u001b[43mstrict\u001b[49m\u001b[43m=\u001b[49m\u001b[43mstrict\u001b[49m\u001b[43m,\u001b[49m\n\u001b[32m    471\u001b[39m \u001b[43m    \u001b[49m\u001b[43mcontext\u001b[49m\u001b[43m=\u001b[49m\u001b[43mcontext\u001b[49m\u001b[43m,\u001b[49m\n\u001b[32m    472\u001b[39m \u001b[43m    \u001b[49m\u001b[43mallow_partial\u001b[49m\u001b[43m=\u001b[49m\u001b[43mexperimental_allow_partial\u001b[49m\u001b[43m,\u001b[49m\n\u001b[32m    473\u001b[39m \u001b[43m    \u001b[49m\u001b[43mby_alias\u001b[49m\u001b[43m=\u001b[49m\u001b[43mby_alias\u001b[49m\u001b[43m,\u001b[49m\n\u001b[32m    474\u001b[39m \u001b[43m    \u001b[49m\u001b[43mby_name\u001b[49m\u001b[43m=\u001b[49m\u001b[43mby_name\u001b[49m\u001b[43m,\u001b[49m\n\u001b[32m    475\u001b[39m \u001b[43m\u001b[49m\u001b[43m)\u001b[49m\n",
      "\u001b[31mValidationError\u001b[39m: 1 validation error for tagged-union[InvalidQueryExceptionModel,ExternalLibraryExceptionModel,UnauthorizedAccessExceptionModel,InternalServerExceptionModel]\n  JSON input should be string, bytes or bytearray [type=json_type, input_value={'type': 'InvalidQueryExc...lta remaining 0.00498.'}, input_type=dict]\n    For further information visit https://errors.pydantic.dev/2.11/v/json_type"
     ]
    }
   ],
   "source": [
    "mean_res = client.opendp.query(\n",
    "    opendp_pipeline = bill_length_pipeline,\n",
    "    fixed_delta=1e-5\n",
    ")\n",
    "\n",
    "mean_bill_length = np.round(mean_res.result.value, 2)\n",
    "print(f\"Mean of bill length: {mean_bill_length} (from opendp query).\")"
   ]
  },
  {
   "cell_type": "code",
   "execution_count": null,
   "id": "8e5f6597",
   "metadata": {},
   "outputs": [
    {
     "data": {
      "text/plain": [
       "5"
      ]
     },
     "execution_count": 12,
     "metadata": {},
     "output_type": "execute_result"
    }
   ],
   "source": [
    "previous_queries = client.get_previous_queries()\n",
    "len(previous_queries)"
   ]
  },
  {
   "cell_type": "code",
   "execution_count": null,
   "id": "6a4b19b1",
   "metadata": {},
   "outputs": [
    {
     "data": {
      "text/plain": [
       "{'user_name': 'Dr. Antartica',\n",
       " 'dataset_name': 'PENGUIN',\n",
       " 'dp_librairy': 'opendp',\n",
       " 'client_input': {'dataset_name': 'PENGUIN',\n",
       "  'opendp_json': Measurement(\n",
       "      input_domain   = AtomDomain(T=String),\n",
       "      input_metric   = SymmetricDistance(),\n",
       "      output_measure = MaxDivergence(f64)),\n",
       "  'fixed_delta': None},\n",
       " 'response': {'epsilon': 0.7122093023265228,\n",
       "  'delta': 0.0,\n",
       "  'requested_by': 'Dr. Antartica',\n",
       "  'result': {'res_type': 'opendp', 'value': 21.587582284159083}},\n",
       " 'timestamp': 1744791577.182293}"
      ]
     },
     "execution_count": 13,
     "metadata": {},
     "output_type": "execute_result"
    }
   ],
   "source": [
    "# OpenDP\n",
    "var_bill_length_query = previous_queries[0]\n",
    "var_bill_length_query"
   ]
  },
  {
   "cell_type": "code",
   "execution_count": null,
   "id": "e46aeea6",
   "metadata": {},
   "outputs": [
    {
     "data": {
      "text/plain": [
       "['Adelie', 'Chinstrap', 'Gentoo']"
      ]
     },
     "execution_count": 17,
     "metadata": {},
     "output_type": "execute_result"
    }
   ],
   "source": [
    "categories = penguin_metadata['columns']['species']['categories']\n",
    "categories"
   ]
  },
  {
   "cell_type": "code",
   "execution_count": null,
   "id": "b22a61df",
   "metadata": {},
   "outputs": [
    {
     "name": "stdout",
     "output_type": "stream",
     "text": [
      "Dummy result for histogram: [27, 33, 41, 0]\n"
     ]
    }
   ],
   "source": [
    "species_count_pipeline = (\n",
    "    dp.t.make_split_dataframe(separator=\",\", col_names=columns) >>\n",
    "    dp.t.make_select_column(key=\"species\", TOA=str) >>\n",
    "    dp.t.then_count_by_categories(categories=categories) >>\n",
    "    dp.m.then_laplace(scale=0.5)\n",
    ")\n",
    "\n",
    "dummy_res = client.opendp.query(\n",
    "    opendp_pipeline = species_count_pipeline, \n",
    "    dummy=True\n",
    ")\n",
    "\n",
    "for i, count in enumerate(dummy_res.result.value):\n",
    "    if i == len(categories):\n",
    "        print(f\"Species Unknown has {count} penguins.\")\n",
    "    else:\n",
    "        print(f\"Species {categories[i]} has {count} penguins.\")"
   ]
  },
  {
   "cell_type": "code",
   "execution_count": null,
   "id": "630b0562",
   "metadata": {},
   "outputs": [
    {
     "data": {
      "text/plain": [
       "CostResponse(epsilon=2.0, delta=0.0)"
      ]
     },
     "execution_count": 19,
     "metadata": {},
     "output_type": "execute_result"
    }
   ],
   "source": [
    "cost_res = client.opendp.cost(\n",
    "    opendp_pipeline = species_count_pipeline\n",
    ")\n",
    "cost_res"
   ]
  },
  {
   "cell_type": "code",
   "execution_count": null,
   "id": "9a36e464",
   "metadata": {},
   "outputs": [
    {
     "data": {
      "text/plain": [
       "{'max_ids': 1,\n",
       " 'rows': 2032543,\n",
       " 'row_privacy': True,\n",
       " 'censor_dims': False,\n",
       " 'columns': {'region': {'private_id': False,\n",
       "   'nullable': False,\n",
       "   'max_partition_length': None,\n",
       "   'max_influenced_partitions': None,\n",
       "   'max_partition_contributions': None,\n",
       "   'type': 'int',\n",
       "   'precision': 32,\n",
       "   'cardinality': 7,\n",
       "   'categories': [1, 2, 3, 4, 5, 6, 7]},\n",
       "  'eco_branch': {'private_id': False,\n",
       "   'nullable': False,\n",
       "   'max_partition_length': None,\n",
       "   'max_influenced_partitions': None,\n",
       "   'max_partition_contributions': None,\n",
       "   'type': 'int',\n",
       "   'precision': 32,\n",
       "   'cardinality': 72,\n",
       "   'categories': [8,\n",
       "    10,\n",
       "    11,\n",
       "    13,\n",
       "    14,\n",
       "    15,\n",
       "    16,\n",
       "    17,\n",
       "    18,\n",
       "    20,\n",
       "    21,\n",
       "    22,\n",
       "    23,\n",
       "    24,\n",
       "    25,\n",
       "    26,\n",
       "    27,\n",
       "    28,\n",
       "    29,\n",
       "    30,\n",
       "    31,\n",
       "    32,\n",
       "    33,\n",
       "    35,\n",
       "    37,\n",
       "    38,\n",
       "    41,\n",
       "    42,\n",
       "    43,\n",
       "    45,\n",
       "    46,\n",
       "    47,\n",
       "    49,\n",
       "    50,\n",
       "    52,\n",
       "    53,\n",
       "    55,\n",
       "    56,\n",
       "    58,\n",
       "    59,\n",
       "    60,\n",
       "    61,\n",
       "    62,\n",
       "    63,\n",
       "    64,\n",
       "    65,\n",
       "    66,\n",
       "    68,\n",
       "    69,\n",
       "    70,\n",
       "    71,\n",
       "    72,\n",
       "    73,\n",
       "    74,\n",
       "    75,\n",
       "    77,\n",
       "    78,\n",
       "    79,\n",
       "    80,\n",
       "    81,\n",
       "    82,\n",
       "    85,\n",
       "    86,\n",
       "    87,\n",
       "    88,\n",
       "    90,\n",
       "    91,\n",
       "    92,\n",
       "    93,\n",
       "    94,\n",
       "    95,\n",
       "    96]},\n",
       "  'profession': {'private_id': False,\n",
       "   'nullable': False,\n",
       "   'max_partition_length': None,\n",
       "   'max_influenced_partitions': None,\n",
       "   'max_partition_contributions': None,\n",
       "   'type': 'int',\n",
       "   'precision': 32,\n",
       "   'cardinality': 28,\n",
       "   'categories': [10,\n",
       "    21,\n",
       "    22,\n",
       "    23,\n",
       "    24,\n",
       "    25,\n",
       "    31,\n",
       "    32,\n",
       "    33,\n",
       "    34,\n",
       "    41,\n",
       "    42,\n",
       "    43,\n",
       "    51,\n",
       "    52,\n",
       "    53,\n",
       "    61,\n",
       "    62,\n",
       "    71,\n",
       "    72,\n",
       "    73,\n",
       "    74,\n",
       "    81,\n",
       "    83,\n",
       "    91,\n",
       "    92,\n",
       "    93,\n",
       "    94]},\n",
       "  'education': {'private_id': False,\n",
       "   'nullable': False,\n",
       "   'max_partition_length': None,\n",
       "   'max_influenced_partitions': None,\n",
       "   'max_partition_contributions': None,\n",
       "   'type': 'int',\n",
       "   'precision': 32,\n",
       "   'cardinality': 8,\n",
       "   'categories': [1, 2, 3, 4, 5, 6, 7, 8]},\n",
       "  'age': {'private_id': False,\n",
       "   'nullable': False,\n",
       "   'max_partition_length': None,\n",
       "   'max_influenced_partitions': None,\n",
       "   'max_partition_contributions': None,\n",
       "   'type': 'int',\n",
       "   'precision': 32,\n",
       "   'lower': 0,\n",
       "   'upper': 120},\n",
       "  'sex': {'private_id': False,\n",
       "   'nullable': False,\n",
       "   'max_partition_length': None,\n",
       "   'max_influenced_partitions': None,\n",
       "   'max_partition_contributions': None,\n",
       "   'type': 'int',\n",
       "   'precision': 32,\n",
       "   'cardinality': 2,\n",
       "   'categories': [0, 1]},\n",
       "  'income': {'private_id': False,\n",
       "   'nullable': False,\n",
       "   'max_partition_length': None,\n",
       "   'max_influenced_partitions': None,\n",
       "   'max_partition_contributions': None,\n",
       "   'type': 'float',\n",
       "   'precision': 64,\n",
       "   'lower': 1000.0,\n",
       "   'upper': 100000.0}}}"
      ]
     },
     "execution_count": 30,
     "metadata": {},
     "output_type": "execute_result"
    }
   ],
   "source": [
    "# Import library\n",
    "import numpy as np\n",
    "import pandas as pd\n",
    "import polars as pl\n",
    "import opendp.prelude as dp\n",
    "\n",
    "USER_NAME = \"Dr. FSO\"\n",
    "DATASET_NAME = \"FSO_INCOME_SYNTHETIC\"\n",
    "client = Client(url=APP_URL, user_name = USER_NAME, dataset_name = DATASET_NAME)\n",
    "\n",
    "fso_income_metadata = client.get_dataset_metadata()\n",
    "fso_income_metadata"
   ]
  }
 ],
 "metadata": {
  "kernelspec": {
   "display_name": "Python 3",
   "language": "python",
   "name": "python3"
  },
  "language_info": {
   "codemirror_mode": {
    "name": "ipython",
    "version": 3
   },
   "file_extension": ".py",
   "mimetype": "text/x-python",
   "name": "python",
   "nbconvert_exporter": "python",
   "pygments_lexer": "ipython3",
   "version": "3.12.9"
  }
 },
 "nbformat": 4,
 "nbformat_minor": 5
}

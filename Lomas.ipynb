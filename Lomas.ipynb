{
 "cells": [
  {
   "cell_type": "code",
   "execution_count": 9,
   "id": "8be36a7d",
   "metadata": {},
   "outputs": [
    {
     "name": "stdout",
     "output_type": "stream",
     "text": [
      "Requirement already satisfied: lomas-client in /opt/conda/lib/python3.12/site-packages (0.4.1)\n",
      "Requirement already satisfied: lomas-core==0.4.1 in /opt/conda/lib/python3.12/site-packages (from lomas-client) (0.4.1)\n",
      "Requirement already satisfied: opentelemetry-instrumentation-requests==0.50b0 in /opt/conda/lib/python3.12/site-packages (from lomas-client) (0.50b0)\n",
      "Requirement already satisfied: requests==2.32.0 in /opt/conda/lib/python3.12/site-packages (from lomas-client) (2.32.0)\n",
      "Requirement already satisfied: diffprivlib==0.6.5 in /opt/conda/lib/python3.12/site-packages (from lomas-core==0.4.1->lomas-client) (0.6.5)\n",
      "Requirement already satisfied: diffprivlib_logger>=0.0.3 in /opt/conda/lib/python3.12/site-packages (from lomas-core==0.4.1->lomas-client) (0.0.3)\n",
      "Requirement already satisfied: fastapi>=0.111.1 in /opt/conda/lib/python3.12/site-packages (from lomas-core==0.4.1->lomas-client) (0.115.12)\n",
      "Requirement already satisfied: numpy>=1.26.4 in /opt/conda/lib/python3.12/site-packages (from lomas-core==0.4.1->lomas-client) (2.2.4)\n",
      "Requirement already satisfied: opendp==0.10.0 in /opt/conda/lib/python3.12/site-packages (from lomas-core==0.4.1->lomas-client) (0.10.0)\n",
      "Requirement already satisfied: opendp_logger>=0.3.0 in /opt/conda/lib/python3.12/site-packages (from lomas-core==0.4.1->lomas-client) (0.3.0)\n",
      "Requirement already satisfied: opentelemetry-api>=1.29.0 in /opt/conda/lib/python3.12/site-packages (from lomas-core==0.4.1->lomas-client) (1.29.0)\n",
      "Requirement already satisfied: opentelemetry-exporter-otlp>=1.29.0 in /opt/conda/lib/python3.12/site-packages (from lomas-core==0.4.1->lomas-client) (1.29.0)\n",
      "Requirement already satisfied: opentelemetry-sdk>=1.29.0 in /opt/conda/lib/python3.12/site-packages (from lomas-core==0.4.1->lomas-client) (1.29.0)\n",
      "Requirement already satisfied: pandas>=2.2.2 in /opt/conda/lib/python3.12/site-packages (from lomas-core==0.4.1->lomas-client) (2.2.3)\n",
      "Requirement already satisfied: pymongo>=4.6.3 in /opt/conda/lib/python3.12/site-packages (from lomas-core==0.4.1->lomas-client) (4.12.0)\n",
      "Requirement already satisfied: scikit-learn>=1.4.2 in /opt/conda/lib/python3.12/site-packages (from lomas-core==0.4.1->lomas-client) (1.6.1)\n",
      "Requirement already satisfied: smartnoise-synth>=1.0.4 in /opt/conda/lib/python3.12/site-packages (from lomas-core==0.4.1->lomas-client) (1.0.4)\n",
      "Requirement already satisfied: smartnoise_synth_logger>=0.0.3 in /opt/conda/lib/python3.12/site-packages (from lomas-core==0.4.1->lomas-client) (0.0.4)\n",
      "Requirement already satisfied: opentelemetry-instrumentation==0.50b0 in /opt/conda/lib/python3.12/site-packages (from opentelemetry-instrumentation-requests==0.50b0->lomas-client) (0.50b0)\n",
      "Requirement already satisfied: opentelemetry-semantic-conventions==0.50b0 in /opt/conda/lib/python3.12/site-packages (from opentelemetry-instrumentation-requests==0.50b0->lomas-client) (0.50b0)\n",
      "Requirement already satisfied: opentelemetry-util-http==0.50b0 in /opt/conda/lib/python3.12/site-packages (from opentelemetry-instrumentation-requests==0.50b0->lomas-client) (0.50b0)\n",
      "Requirement already satisfied: charset-normalizer<4,>=2 in /opt/conda/lib/python3.12/site-packages (from requests==2.32.0->lomas-client) (3.4.1)\n",
      "Requirement already satisfied: idna<4,>=2.5 in /opt/conda/lib/python3.12/site-packages (from requests==2.32.0->lomas-client) (3.10)\n",
      "Requirement already satisfied: urllib3<3,>=1.21.1 in /opt/conda/lib/python3.12/site-packages (from requests==2.32.0->lomas-client) (2.3.0)\n",
      "Requirement already satisfied: certifi>=2017.4.17 in /opt/conda/lib/python3.12/site-packages (from requests==2.32.0->lomas-client) (2025.1.31)\n",
      "Requirement already satisfied: scipy>=1.7.3 in /opt/conda/lib/python3.12/site-packages (from diffprivlib==0.6.5->lomas-core==0.4.1->lomas-client) (1.15.2)\n",
      "Requirement already satisfied: joblib>=0.16.0 in /opt/conda/lib/python3.12/site-packages (from diffprivlib==0.6.5->lomas-core==0.4.1->lomas-client) (1.4.2)\n",
      "Requirement already satisfied: setuptools>=49.0.0 in /opt/conda/lib/python3.12/site-packages (from diffprivlib==0.6.5->lomas-core==0.4.1->lomas-client) (75.8.2)\n",
      "Requirement already satisfied: packaging>=18.0 in /opt/conda/lib/python3.12/site-packages (from opentelemetry-instrumentation==0.50b0->opentelemetry-instrumentation-requests==0.50b0->lomas-client) (24.2)\n",
      "Requirement already satisfied: wrapt<2.0.0,>=1.0.0 in /opt/conda/lib/python3.12/site-packages (from opentelemetry-instrumentation==0.50b0->opentelemetry-instrumentation-requests==0.50b0->lomas-client) (1.17.2)\n",
      "Requirement already satisfied: deprecated>=1.2.6 in /opt/conda/lib/python3.12/site-packages (from opentelemetry-semantic-conventions==0.50b0->opentelemetry-instrumentation-requests==0.50b0->lomas-client) (1.2.18)\n",
      "Requirement already satisfied: importlib-metadata<=8.5.0,>=6.0 in /opt/conda/lib/python3.12/site-packages (from opentelemetry-api>=1.29.0->lomas-core==0.4.1->lomas-client) (8.5.0)\n",
      "Requirement already satisfied: starlette<0.47.0,>=0.40.0 in /opt/conda/lib/python3.12/site-packages (from fastapi>=0.111.1->lomas-core==0.4.1->lomas-client) (0.46.1)\n",
      "Requirement already satisfied: pydantic!=1.8,!=1.8.1,!=2.0.0,!=2.0.1,!=2.1.0,<3.0.0,>=1.7.4 in /opt/conda/lib/python3.12/site-packages (from fastapi>=0.111.1->lomas-core==0.4.1->lomas-client) (2.11.3)\n",
      "Requirement already satisfied: typing-extensions>=4.8.0 in /opt/conda/lib/python3.12/site-packages (from fastapi>=0.111.1->lomas-core==0.4.1->lomas-client) (4.13.2)\n",
      "Requirement already satisfied: opentelemetry-exporter-otlp-proto-grpc==1.29.0 in /opt/conda/lib/python3.12/site-packages (from opentelemetry-exporter-otlp>=1.29.0->lomas-core==0.4.1->lomas-client) (1.29.0)\n",
      "Requirement already satisfied: opentelemetry-exporter-otlp-proto-http==1.29.0 in /opt/conda/lib/python3.12/site-packages (from opentelemetry-exporter-otlp>=1.29.0->lomas-core==0.4.1->lomas-client) (1.29.0)\n",
      "Requirement already satisfied: googleapis-common-protos~=1.52 in /opt/conda/lib/python3.12/site-packages (from opentelemetry-exporter-otlp-proto-grpc==1.29.0->opentelemetry-exporter-otlp>=1.29.0->lomas-core==0.4.1->lomas-client) (1.70.0)\n",
      "Requirement already satisfied: grpcio<2.0.0,>=1.63.2 in /opt/conda/lib/python3.12/site-packages (from opentelemetry-exporter-otlp-proto-grpc==1.29.0->opentelemetry-exporter-otlp>=1.29.0->lomas-core==0.4.1->lomas-client) (1.71.0)\n",
      "Requirement already satisfied: opentelemetry-exporter-otlp-proto-common==1.29.0 in /opt/conda/lib/python3.12/site-packages (from opentelemetry-exporter-otlp-proto-grpc==1.29.0->opentelemetry-exporter-otlp>=1.29.0->lomas-core==0.4.1->lomas-client) (1.29.0)\n",
      "Requirement already satisfied: opentelemetry-proto==1.29.0 in /opt/conda/lib/python3.12/site-packages (from opentelemetry-exporter-otlp-proto-grpc==1.29.0->opentelemetry-exporter-otlp>=1.29.0->lomas-core==0.4.1->lomas-client) (1.29.0)\n",
      "Requirement already satisfied: protobuf<6.0,>=5.0 in /opt/conda/lib/python3.12/site-packages (from opentelemetry-proto==1.29.0->opentelemetry-exporter-otlp-proto-grpc==1.29.0->opentelemetry-exporter-otlp>=1.29.0->lomas-core==0.4.1->lomas-client) (5.28.3)\n",
      "Requirement already satisfied: python-dateutil>=2.8.2 in /opt/conda/lib/python3.12/site-packages (from pandas>=2.2.2->lomas-core==0.4.1->lomas-client) (2.9.0.post0)\n",
      "Requirement already satisfied: pytz>=2020.1 in /opt/conda/lib/python3.12/site-packages (from pandas>=2.2.2->lomas-core==0.4.1->lomas-client) (2025.2)\n",
      "Requirement already satisfied: tzdata>=2022.7 in /opt/conda/lib/python3.12/site-packages (from pandas>=2.2.2->lomas-core==0.4.1->lomas-client) (2025.2)\n",
      "Requirement already satisfied: dnspython<3.0.0,>=1.16.0 in /opt/conda/lib/python3.12/site-packages (from pymongo>=4.6.3->lomas-core==0.4.1->lomas-client) (2.7.0)\n",
      "Requirement already satisfied: threadpoolctl>=3.1.0 in /opt/conda/lib/python3.12/site-packages (from scikit-learn>=1.4.2->lomas-core==0.4.1->lomas-client) (3.6.0)\n",
      "Requirement already satisfied: Faker>=17.0.0 in /opt/conda/lib/python3.12/site-packages (from smartnoise-synth>=1.0.4->lomas-core==0.4.1->lomas-client) (37.1.0)\n",
      "Requirement already satisfied: opacus<0.15.0,>=0.14.0 in /opt/conda/lib/python3.12/site-packages (from smartnoise-synth>=1.0.4->lomas-core==0.4.1->lomas-client) (0.14.0)\n",
      "Requirement already satisfied: pac-synth<0.0.9,>=0.0.8 in /opt/conda/lib/python3.12/site-packages (from smartnoise-synth>=1.0.4->lomas-core==0.4.1->lomas-client) (0.0.8)\n",
      "Requirement already satisfied: smartnoise-sql<2.0.0,>=1.0.4 in /opt/conda/lib/python3.12/site-packages (from smartnoise-synth>=1.0.4->lomas-core==0.4.1->lomas-client) (1.0.6)\n",
      "Requirement already satisfied: torch>=2.2.0 in /opt/conda/lib/python3.12/site-packages (from smartnoise-synth>=1.0.4->lomas-core==0.4.1->lomas-client) (2.6.0)\n",
      "Requirement already satisfied: zipp>=3.20 in /opt/conda/lib/python3.12/site-packages (from importlib-metadata<=8.5.0,>=6.0->opentelemetry-api>=1.29.0->lomas-core==0.4.1->lomas-client) (3.21.0)\n",
      "Requirement already satisfied: annotated-types>=0.6.0 in /opt/conda/lib/python3.12/site-packages (from pydantic!=1.8,!=1.8.1,!=2.0.0,!=2.0.1,!=2.1.0,<3.0.0,>=1.7.4->fastapi>=0.111.1->lomas-core==0.4.1->lomas-client) (0.7.0)\n",
      "Requirement already satisfied: pydantic-core==2.33.1 in /opt/conda/lib/python3.12/site-packages (from pydantic!=1.8,!=1.8.1,!=2.0.0,!=2.0.1,!=2.1.0,<3.0.0,>=1.7.4->fastapi>=0.111.1->lomas-core==0.4.1->lomas-client) (2.33.1)\n",
      "Requirement already satisfied: typing-inspection>=0.4.0 in /opt/conda/lib/python3.12/site-packages (from pydantic!=1.8,!=1.8.1,!=2.0.0,!=2.0.1,!=2.1.0,<3.0.0,>=1.7.4->fastapi>=0.111.1->lomas-core==0.4.1->lomas-client) (0.4.0)\n",
      "Requirement already satisfied: six>=1.5 in /opt/conda/lib/python3.12/site-packages (from python-dateutil>=2.8.2->pandas>=2.2.2->lomas-core==0.4.1->lomas-client) (1.17.0)\n",
      "Requirement already satisfied: PyYAML<7.0.0,>=6.0.1 in /opt/conda/lib/python3.12/site-packages (from smartnoise-sql<2.0.0,>=1.0.4->smartnoise-synth>=1.0.4->lomas-core==0.4.1->lomas-client) (6.0.2)\n",
      "Requirement already satisfied: antlr4-python3-runtime==4.9.3 in /opt/conda/lib/python3.12/site-packages (from smartnoise-sql<2.0.0,>=1.0.4->smartnoise-synth>=1.0.4->lomas-core==0.4.1->lomas-client) (4.9.3)\n",
      "Requirement already satisfied: graphviz<1.0,>=0.17 in /opt/conda/lib/python3.12/site-packages (from smartnoise-sql<2.0.0,>=1.0.4->smartnoise-synth>=1.0.4->lomas-core==0.4.1->lomas-client) (0.20.3)\n",
      "Requirement already satisfied: sqlalchemy<3.0.0,>=2.0.0 in /opt/conda/lib/python3.12/site-packages (from smartnoise-sql<2.0.0,>=1.0.4->smartnoise-synth>=1.0.4->lomas-core==0.4.1->lomas-client) (2.0.40)\n",
      "Requirement already satisfied: anyio<5,>=3.6.2 in /opt/conda/lib/python3.12/site-packages (from starlette<0.47.0,>=0.40.0->fastapi>=0.111.1->lomas-core==0.4.1->lomas-client) (4.9.0)\n",
      "Requirement already satisfied: filelock in /opt/conda/lib/python3.12/site-packages (from torch>=2.2.0->smartnoise-synth>=1.0.4->lomas-core==0.4.1->lomas-client) (3.18.0)\n",
      "Requirement already satisfied: networkx in /opt/conda/lib/python3.12/site-packages (from torch>=2.2.0->smartnoise-synth>=1.0.4->lomas-core==0.4.1->lomas-client) (3.4.2)\n",
      "Requirement already satisfied: jinja2 in /opt/conda/lib/python3.12/site-packages (from torch>=2.2.0->smartnoise-synth>=1.0.4->lomas-core==0.4.1->lomas-client) (3.1.6)\n",
      "Requirement already satisfied: fsspec in /opt/conda/lib/python3.12/site-packages (from torch>=2.2.0->smartnoise-synth>=1.0.4->lomas-core==0.4.1->lomas-client) (2025.3.2)\n",
      "Requirement already satisfied: nvidia-cuda-nvrtc-cu12==12.4.127 in /opt/conda/lib/python3.12/site-packages (from torch>=2.2.0->smartnoise-synth>=1.0.4->lomas-core==0.4.1->lomas-client) (12.4.127)\n",
      "Requirement already satisfied: nvidia-cuda-runtime-cu12==12.4.127 in /opt/conda/lib/python3.12/site-packages (from torch>=2.2.0->smartnoise-synth>=1.0.4->lomas-core==0.4.1->lomas-client) (12.4.127)\n",
      "Requirement already satisfied: nvidia-cuda-cupti-cu12==12.4.127 in /opt/conda/lib/python3.12/site-packages (from torch>=2.2.0->smartnoise-synth>=1.0.4->lomas-core==0.4.1->lomas-client) (12.4.127)\n",
      "Requirement already satisfied: nvidia-cudnn-cu12==9.1.0.70 in /opt/conda/lib/python3.12/site-packages (from torch>=2.2.0->smartnoise-synth>=1.0.4->lomas-core==0.4.1->lomas-client) (9.1.0.70)\n",
      "Requirement already satisfied: nvidia-cublas-cu12==12.4.5.8 in /opt/conda/lib/python3.12/site-packages (from torch>=2.2.0->smartnoise-synth>=1.0.4->lomas-core==0.4.1->lomas-client) (12.4.5.8)\n",
      "Requirement already satisfied: nvidia-cufft-cu12==11.2.1.3 in /opt/conda/lib/python3.12/site-packages (from torch>=2.2.0->smartnoise-synth>=1.0.4->lomas-core==0.4.1->lomas-client) (11.2.1.3)\n",
      "Requirement already satisfied: nvidia-curand-cu12==10.3.5.147 in /opt/conda/lib/python3.12/site-packages (from torch>=2.2.0->smartnoise-synth>=1.0.4->lomas-core==0.4.1->lomas-client) (10.3.5.147)\n",
      "Requirement already satisfied: nvidia-cusolver-cu12==11.6.1.9 in /opt/conda/lib/python3.12/site-packages (from torch>=2.2.0->smartnoise-synth>=1.0.4->lomas-core==0.4.1->lomas-client) (11.6.1.9)\n",
      "Requirement already satisfied: nvidia-cusparse-cu12==12.3.1.170 in /opt/conda/lib/python3.12/site-packages (from torch>=2.2.0->smartnoise-synth>=1.0.4->lomas-core==0.4.1->lomas-client) (12.3.1.170)\n",
      "Requirement already satisfied: nvidia-cusparselt-cu12==0.6.2 in /opt/conda/lib/python3.12/site-packages (from torch>=2.2.0->smartnoise-synth>=1.0.4->lomas-core==0.4.1->lomas-client) (0.6.2)\n",
      "Requirement already satisfied: nvidia-nccl-cu12==2.21.5 in /opt/conda/lib/python3.12/site-packages (from torch>=2.2.0->smartnoise-synth>=1.0.4->lomas-core==0.4.1->lomas-client) (2.21.5)\n",
      "Requirement already satisfied: nvidia-nvtx-cu12==12.4.127 in /opt/conda/lib/python3.12/site-packages (from torch>=2.2.0->smartnoise-synth>=1.0.4->lomas-core==0.4.1->lomas-client) (12.4.127)\n",
      "Requirement already satisfied: nvidia-nvjitlink-cu12==12.4.127 in /opt/conda/lib/python3.12/site-packages (from torch>=2.2.0->smartnoise-synth>=1.0.4->lomas-core==0.4.1->lomas-client) (12.4.127)\n",
      "Requirement already satisfied: triton==3.2.0 in /opt/conda/lib/python3.12/site-packages (from torch>=2.2.0->smartnoise-synth>=1.0.4->lomas-core==0.4.1->lomas-client) (3.2.0)\n",
      "Requirement already satisfied: sympy==1.13.1 in /opt/conda/lib/python3.12/site-packages (from torch>=2.2.0->smartnoise-synth>=1.0.4->lomas-core==0.4.1->lomas-client) (1.13.1)\n",
      "Requirement already satisfied: mpmath<1.4,>=1.1.0 in /opt/conda/lib/python3.12/site-packages (from sympy==1.13.1->torch>=2.2.0->smartnoise-synth>=1.0.4->lomas-core==0.4.1->lomas-client) (1.3.0)\n",
      "Requirement already satisfied: sniffio>=1.1 in /opt/conda/lib/python3.12/site-packages (from anyio<5,>=3.6.2->starlette<0.47.0,>=0.40.0->fastapi>=0.111.1->lomas-core==0.4.1->lomas-client) (1.3.1)\n",
      "Requirement already satisfied: greenlet>=1 in /opt/conda/lib/python3.12/site-packages (from sqlalchemy<3.0.0,>=2.0.0->smartnoise-sql<2.0.0,>=1.0.4->smartnoise-synth>=1.0.4->lomas-core==0.4.1->lomas-client) (3.1.1)\n",
      "Requirement already satisfied: MarkupSafe>=2.0 in /opt/conda/lib/python3.12/site-packages (from jinja2->torch>=2.2.0->smartnoise-synth>=1.0.4->lomas-core==0.4.1->lomas-client) (3.0.2)\n",
      "Note: you may need to restart the kernel to use updated packages.\n"
     ]
    }
   ],
   "source": [
    "%pip install lomas-client"
   ]
  },
  {
   "cell_type": "code",
   "execution_count": 10,
   "id": "1d019e14",
   "metadata": {},
   "outputs": [],
   "source": [
    "# Step 1\n",
    "from lomas_client import Client\n",
    "import numpy as np\n",
    "\n",
    "# Step 2\n",
    "APP_URL = \"https://user-stuartbenoliel-490979-lomas-server-user.lab.sspcloud.fr\"\n",
    "USER_NAME = \"Dr. Antartica\"\n",
    "DATASET_NAME = \"PENGUIN\"\n",
    "client = Client(url=APP_URL, user_name = USER_NAME, dataset_name = DATASET_NAME)\n",
    "\n",
    "# Step 3\n",
    "#es = client.any_query(parameters)"
   ]
  },
  {
   "cell_type": "code",
   "execution_count": 11,
   "id": "ecd6a9bc",
   "metadata": {},
   "outputs": [
    {
     "data": {
      "text/plain": [
       "{'max_ids': 1,\n",
       " 'rows': 344,\n",
       " 'row_privacy': True,\n",
       " 'censor_dims': False,\n",
       " 'columns': {'species': {'private_id': False,\n",
       "   'nullable': False,\n",
       "   'max_partition_length': None,\n",
       "   'max_influenced_partitions': None,\n",
       "   'max_partition_contributions': None,\n",
       "   'type': 'string',\n",
       "   'cardinality': 3,\n",
       "   'categories': ['Adelie', 'Chinstrap', 'Gentoo']},\n",
       "  'island': {'private_id': False,\n",
       "   'nullable': False,\n",
       "   'max_partition_length': None,\n",
       "   'max_influenced_partitions': None,\n",
       "   'max_partition_contributions': None,\n",
       "   'type': 'string',\n",
       "   'cardinality': 3,\n",
       "   'categories': ['Torgersen', 'Biscoe', 'Dream']},\n",
       "  'bill_length_mm': {'private_id': False,\n",
       "   'nullable': False,\n",
       "   'max_partition_length': None,\n",
       "   'max_influenced_partitions': None,\n",
       "   'max_partition_contributions': None,\n",
       "   'type': 'float',\n",
       "   'precision': 64,\n",
       "   'lower': 30.0,\n",
       "   'upper': 65.0},\n",
       "  'bill_depth_mm': {'private_id': False,\n",
       "   'nullable': False,\n",
       "   'max_partition_length': None,\n",
       "   'max_influenced_partitions': None,\n",
       "   'max_partition_contributions': None,\n",
       "   'type': 'float',\n",
       "   'precision': 64,\n",
       "   'lower': 13.0,\n",
       "   'upper': 23.0},\n",
       "  'flipper_length_mm': {'private_id': False,\n",
       "   'nullable': False,\n",
       "   'max_partition_length': None,\n",
       "   'max_influenced_partitions': None,\n",
       "   'max_partition_contributions': None,\n",
       "   'type': 'float',\n",
       "   'precision': 64,\n",
       "   'lower': 150.0,\n",
       "   'upper': 250.0},\n",
       "  'body_mass_g': {'private_id': False,\n",
       "   'nullable': False,\n",
       "   'max_partition_length': None,\n",
       "   'max_influenced_partitions': None,\n",
       "   'max_partition_contributions': None,\n",
       "   'type': 'float',\n",
       "   'precision': 64,\n",
       "   'lower': 2000.0,\n",
       "   'upper': 7000.0},\n",
       "  'sex': {'private_id': False,\n",
       "   'nullable': False,\n",
       "   'max_partition_length': None,\n",
       "   'max_influenced_partitions': None,\n",
       "   'max_partition_contributions': None,\n",
       "   'type': 'string',\n",
       "   'cardinality': 2,\n",
       "   'categories': ['MALE', 'FEMALE']}}}"
      ]
     },
     "execution_count": 11,
     "metadata": {},
     "output_type": "execute_result"
    }
   ],
   "source": [
    "penguin_metadata = client.get_dataset_metadata()\n",
    "penguin_metadata"
   ]
  },
  {
   "cell_type": "code",
   "execution_count": 12,
   "id": "b45e36bf",
   "metadata": {},
   "outputs": [
    {
     "name": "stdout",
     "output_type": "stream",
     "text": [
      "(100, 7)\n"
     ]
    },
    {
     "data": {
      "text/html": [
       "<div>\n",
       "<style scoped>\n",
       "    .dataframe tbody tr th:only-of-type {\n",
       "        vertical-align: middle;\n",
       "    }\n",
       "\n",
       "    .dataframe tbody tr th {\n",
       "        vertical-align: top;\n",
       "    }\n",
       "\n",
       "    .dataframe thead th {\n",
       "        text-align: right;\n",
       "    }\n",
       "</style>\n",
       "<table border=\"1\" class=\"dataframe\">\n",
       "  <thead>\n",
       "    <tr style=\"text-align: right;\">\n",
       "      <th></th>\n",
       "      <th>species</th>\n",
       "      <th>island</th>\n",
       "      <th>bill_length_mm</th>\n",
       "      <th>bill_depth_mm</th>\n",
       "      <th>flipper_length_mm</th>\n",
       "      <th>body_mass_g</th>\n",
       "      <th>sex</th>\n",
       "    </tr>\n",
       "  </thead>\n",
       "  <tbody>\n",
       "    <tr>\n",
       "      <th>0</th>\n",
       "      <td>Gentoo</td>\n",
       "      <td>Biscoe</td>\n",
       "      <td>46.799577</td>\n",
       "      <td>16.196816</td>\n",
       "      <td>239.680123</td>\n",
       "      <td>3010.840470</td>\n",
       "      <td>FEMALE</td>\n",
       "    </tr>\n",
       "    <tr>\n",
       "      <th>1</th>\n",
       "      <td>Chinstrap</td>\n",
       "      <td>Dream</td>\n",
       "      <td>38.133052</td>\n",
       "      <td>14.875077</td>\n",
       "      <td>208.332005</td>\n",
       "      <td>6689.525543</td>\n",
       "      <td>MALE</td>\n",
       "    </tr>\n",
       "    <tr>\n",
       "      <th>2</th>\n",
       "      <td>Chinstrap</td>\n",
       "      <td>Torgersen</td>\n",
       "      <td>58.065820</td>\n",
       "      <td>19.725266</td>\n",
       "      <td>154.021822</td>\n",
       "      <td>2473.883392</td>\n",
       "      <td>MALE</td>\n",
       "    </tr>\n",
       "    <tr>\n",
       "      <th>3</th>\n",
       "      <td>Adelie</td>\n",
       "      <td>Torgersen</td>\n",
       "      <td>62.323556</td>\n",
       "      <td>14.951074</td>\n",
       "      <td>221.148682</td>\n",
       "      <td>2024.497075</td>\n",
       "      <td>FEMALE</td>\n",
       "    </tr>\n",
       "    <tr>\n",
       "      <th>4</th>\n",
       "      <td>Adelie</td>\n",
       "      <td>Dream</td>\n",
       "      <td>39.314560</td>\n",
       "      <td>18.776879</td>\n",
       "      <td>206.902585</td>\n",
       "      <td>3614.604018</td>\n",
       "      <td>MALE</td>\n",
       "    </tr>\n",
       "  </tbody>\n",
       "</table>\n",
       "</div>"
      ],
      "text/plain": [
       "     species     island  bill_length_mm  bill_depth_mm  flipper_length_mm  \\\n",
       "0     Gentoo     Biscoe       46.799577      16.196816         239.680123   \n",
       "1  Chinstrap      Dream       38.133052      14.875077         208.332005   \n",
       "2  Chinstrap  Torgersen       58.065820      19.725266         154.021822   \n",
       "3     Adelie  Torgersen       62.323556      14.951074         221.148682   \n",
       "4     Adelie      Dream       39.314560      18.776879         206.902585   \n",
       "\n",
       "   body_mass_g     sex  \n",
       "0  3010.840470  FEMALE  \n",
       "1  6689.525543    MALE  \n",
       "2  2473.883392    MALE  \n",
       "3  2024.497075  FEMALE  \n",
       "4  3614.604018    MALE  "
      ]
     },
     "execution_count": 12,
     "metadata": {},
     "output_type": "execute_result"
    }
   ],
   "source": [
    "NB_PENGUINS = penguin_metadata[\"rows\"]\n",
    "\n",
    "NB_ROWS = 100\n",
    "SEED = 0\n",
    "\n",
    "df_dummy = client.get_dummy_dataset(\n",
    "    nb_rows = NB_ROWS,\n",
    "    seed = SEED\n",
    ")\n",
    "\n",
    "print(df_dummy.shape)\n",
    "df_dummy.head()"
   ]
  },
  {
   "cell_type": "code",
   "execution_count": 13,
   "id": "0a734d09",
   "metadata": {},
   "outputs": [
    {
     "name": "stdout",
     "output_type": "stream",
     "text": [
      "initial_epsilon=10.0 initial_delta=0.005\n",
      "total_spent_epsilon=1.4244186046530456 total_spent_delta=0.0\n",
      "remaining_epsilon=8.575581395346955 remaining_delta=0.005\n"
     ]
    }
   ],
   "source": [
    "print(client.get_initial_budget())\n",
    "print(client.get_total_spent_budget())\n",
    "print(client.get_remaining_budget())"
   ]
  },
  {
   "cell_type": "code",
   "execution_count": 14,
   "id": "d74c34be",
   "metadata": {},
   "outputs": [],
   "source": [
    "import opendp.prelude as dp\n",
    "\n",
    "columns = list(penguin_metadata[\"columns\"].keys())\n",
    "bill_length_min = penguin_metadata['columns']['bill_length_mm']['lower']\n",
    "bill_length_max = penguin_metadata['columns']['bill_length_mm']['upper']\n",
    "bill_length_min, bill_length_max\n",
    "\n",
    "bill_length_pipeline = (\n",
    "    dp.t.make_split_dataframe(separator=\",\", col_names=columns) >>\n",
    "    dp.t.make_select_column(key=\"bill_length_mm\", TOA=str) >>\n",
    "    dp.t.then_cast_default(TOA=float) >>\n",
    "    dp.t.then_clamp(bounds=(bill_length_min, bill_length_max)) >>\n",
    "    dp.t.then_resize(size=NB_PENGUINS, constant=40.0) >>\n",
    "    dp.t.then_mean() >>\n",
    "    dp.m.then_gaussian(scale=5.0) # Noise addition mechanism instructions\n",
    ")"
   ]
  },
  {
   "cell_type": "code",
   "execution_count": 15,
   "id": "f4872ac4",
   "metadata": {},
   "outputs": [
    {
     "data": {
      "text/plain": [
       "CostResponse(epsilon=0.06698311627234338, delta=1e-05)"
      ]
     },
     "execution_count": 15,
     "metadata": {},
     "output_type": "execute_result"
    }
   ],
   "source": [
    "cost_res = client.opendp.cost(\n",
    "    opendp_pipeline = bill_length_pipeline,\n",
    "    fixed_delta=1e-5\n",
    ")\n",
    "cost_res"
   ]
  },
  {
   "cell_type": "code",
   "execution_count": 17,
   "id": "8abbed39",
   "metadata": {},
   "outputs": [
    {
     "name": "stdout",
     "output_type": "stream",
     "text": [
      "Dummy result for variance: 45.93\n"
     ]
    }
   ],
   "source": [
    "dummy_var_res = client.opendp.query(\n",
    "    opendp_pipeline = bill_length_pipeline,\n",
    "    dummy=True,\n",
    "    fixed_delta=1e-5\n",
    ")\n",
    "print(f\"Dummy result for variance: {np.round(dummy_var_res.result.value, 2)}\")"
   ]
  },
  {
   "cell_type": "code",
   "execution_count": 19,
   "id": "ca426828",
   "metadata": {},
   "outputs": [
    {
     "name": "stdout",
     "output_type": "stream",
     "text": [
      "Variance of bill length: 44.64 (from opendp query).\n"
     ]
    }
   ],
   "source": [
    "var_res = client.opendp.query(\n",
    "    opendp_pipeline = bill_length_pipeline,\n",
    "    fixed_delta=1e-5\n",
    ")\n",
    "\n",
    "var_bill_length = np.round(var_res.result.value, 2)\n",
    "print(f\"Variance of bill length: {var_bill_length} (from opendp query).\")"
   ]
  },
  {
   "cell_type": "code",
   "execution_count": 20,
   "id": "2bfeab8b",
   "metadata": {},
   "outputs": [
    {
     "name": "stdout",
     "output_type": "stream",
     "text": [
      "Standard error of bill length: 0.36.\n",
      "The 95% confidence interval of the bill length of all penguins is [39.29, 40.71].\n"
     ]
    }
   ],
   "source": [
    "# Get standard error\n",
    "standard_error = np.sqrt(var_bill_length / NB_PENGUINS)\n",
    "print(f\"Standard error of bill length: {np.round(standard_error, 2)}.\")\n",
    "\n",
    "# Compute the 95% confidence interval\n",
    "ZSCORE = 1.96\n",
    "lower_bound = np.round(40.0 - ZSCORE * standard_error, 2)\n",
    "upper_bound = np.round(40.0 + ZSCORE * standard_error, 2)\n",
    "print(f\"The 95% confidence interval of the bill length of all penguins is [{lower_bound}, {upper_bound}].\")"
   ]
  },
  {
   "cell_type": "code",
   "execution_count": 21,
   "id": "8e5f6597",
   "metadata": {},
   "outputs": [
    {
     "data": {
      "text/plain": [
       "3"
      ]
     },
     "execution_count": 21,
     "metadata": {},
     "output_type": "execute_result"
    }
   ],
   "source": [
    "previous_queries = client.get_previous_queries()\n",
    "len(previous_queries)"
   ]
  },
  {
   "cell_type": "code",
   "execution_count": 22,
   "id": "6a4b19b1",
   "metadata": {},
   "outputs": [
    {
     "data": {
      "text/plain": [
       "{'user_name': 'Dr. Antartica',\n",
       " 'dataset_name': 'PENGUIN',\n",
       " 'dp_librairy': 'opendp',\n",
       " 'client_input': {'dataset_name': 'PENGUIN',\n",
       "  'opendp_json': Measurement(\n",
       "      input_domain   = AtomDomain(T=String),\n",
       "      input_metric   = SymmetricDistance(),\n",
       "      output_measure = MaxDivergence(f64)),\n",
       "  'fixed_delta': None},\n",
       " 'response': {'epsilon': 0.7122093023265228,\n",
       "  'delta': 0.0,\n",
       "  'requested_by': 'Dr. Antartica',\n",
       "  'result': {'res_type': 'opendp', 'value': 21.587582284159083}},\n",
       " 'timestamp': 1744791577.182293}"
      ]
     },
     "execution_count": 22,
     "metadata": {},
     "output_type": "execute_result"
    }
   ],
   "source": [
    "# OpenDP\n",
    "var_bill_length_query = previous_queries[0]\n",
    "var_bill_length_query"
   ]
  }
 ],
 "metadata": {
  "kernelspec": {
   "display_name": "base",
   "language": "python",
   "name": "python3"
  },
  "language_info": {
   "codemirror_mode": {
    "name": "ipython",
    "version": 3
   },
   "file_extension": ".py",
   "mimetype": "text/x-python",
   "name": "python",
   "nbconvert_exporter": "python",
   "pygments_lexer": "ipython3",
   "version": "3.12.9"
  }
 },
 "nbformat": 4,
 "nbformat_minor": 5
}
